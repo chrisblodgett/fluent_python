{
 "cells": [
  {
   "cell_type": "markdown",
   "source": [
    "## Dictionaries and sets {}, fast optimized performance via hash tables"
   ],
   "metadata": {
    "collapsed": false
   },
   "id": "562045cab1abf26e"
  },
  {
   "cell_type": "code",
   "outputs": [
    {
     "name": "stdout",
     "output_type": "stream",
     "text": [
      "{48: 'Chris', 52: 'Daphne', 19: 'Derek', 17: 'Kaila', 14: 'Trisha'}\n"
     ]
    }
   ],
   "source": [
    "family_list = [ ('chris',48), \n",
    "  ('derek',19),\n",
    "  ('kaila',17),\n",
    "  ('trisha',14),\n",
    "  ('daphne',52)\n",
    "]\n",
    "family_dict = {age:name.title()for name, age in sorted(family_list)} # simliar to list comp\n",
    "print(family_dict)"
   ],
   "metadata": {
    "collapsed": false,
    "ExecuteTime": {
     "end_time": "2024-03-05T04:53:21.569700Z",
     "start_time": "2024-03-05T04:53:21.567081Z"
    }
   },
   "id": "9598fdd5cff23315",
   "execution_count": 13
  },
  {
   "cell_type": "code",
   "outputs": [
    {
     "data": {
      "text/plain": "{'Trisha': 14, 'Kaila': 17, 'Derek': 19}"
     },
     "execution_count": 26,
     "metadata": {},
     "output_type": "execute_result"
    }
   ],
   "source": [
    "family_dict2 = {name:age for age,name in sorted(family_dict.items()) if age <20}\n",
    "family_dict2"
   ],
   "metadata": {
    "collapsed": false,
    "ExecuteTime": {
     "end_time": "2024-03-05T04:59:42.574880Z",
     "start_time": "2024-03-05T04:59:42.572143Z"
    }
   },
   "id": "6f6c2a979e3e880a",
   "execution_count": 26
  },
  {
   "cell_type": "markdown",
   "source": [
    "## unpacking mappings with **"
   ],
   "metadata": {
    "collapsed": false
   },
   "id": "cf567107a29037a5"
  },
  {
   "cell_type": "code",
   "outputs": [
    {
     "name": "stdout",
     "output_type": "stream",
     "text": [
      "(1, 2)\n"
     ]
    },
    {
     "data": {
      "text/plain": "{'z': -1, 'y': -2, 'a': 0, 'b': 3, 'w': 5, 'x': 4}"
     },
     "execution_count": 44,
     "metadata": {},
     "output_type": "execute_result"
    }
   ],
   "source": [
    "def dump(*args, **kwargs): #unpqck them into a dict\n",
    "  print(args)\n",
    "  return kwargs\n",
    "\n",
    "dump(1,2,**{'z': -1, 'y': -2},a = 0, b= 3, **{'w' : 5, 'x' :4}) # ** to unpack them to pass into function **kwargs"
   ],
   "metadata": {
    "collapsed": false,
    "ExecuteTime": {
     "end_time": "2024-03-05T05:09:59.338031Z",
     "start_time": "2024-03-05T05:09:59.335463Z"
    }
   },
   "id": "4010512deae74597",
   "execution_count": 44
  },
  {
   "cell_type": "code",
   "outputs": [],
   "source": [],
   "metadata": {
    "collapsed": false
   },
   "id": "4494f0962fc4042"
  }
 ],
 "metadata": {
  "kernelspec": {
   "display_name": "Python 3",
   "language": "python",
   "name": "python3"
  },
  "language_info": {
   "codemirror_mode": {
    "name": "ipython",
    "version": 2
   },
   "file_extension": ".py",
   "mimetype": "text/x-python",
   "name": "python",
   "nbconvert_exporter": "python",
   "pygments_lexer": "ipython2",
   "version": "2.7.6"
  }
 },
 "nbformat": 4,
 "nbformat_minor": 5
}
