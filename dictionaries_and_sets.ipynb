{
 "cells": [
  {
   "cell_type": "markdown",
   "source": [
    "## Dictionaries and sets {}, fast optimized performance via hash tables"
   ],
   "metadata": {
    "collapsed": false
   },
   "id": "562045cab1abf26e"
  },
  {
   "cell_type": "code",
   "outputs": [
    {
     "name": "stdout",
     "output_type": "stream",
     "text": [
      "{48: 'Chris', 52: 'Daphne', 19: 'Derek', 17: 'Kaila', 14: 'Trisha'}\n"
     ]
    }
   ],
   "source": [
    "family_list = [ ('chris',48), \n",
    "  ('derek',19),\n",
    "  ('kaila',17),\n",
    "  ('trisha',14),\n",
    "  ('daphne',52)\n",
    "]\n",
    "family_dict = {age:name.title()for name, age in sorted(family_list)} # simliar to list comp\n",
    "print(family_dict)"
   ],
   "metadata": {
    "collapsed": false,
    "ExecuteTime": {
     "end_time": "2024-03-05T04:53:21.569700Z",
     "start_time": "2024-03-05T04:53:21.567081Z"
    }
   },
   "id": "9598fdd5cff23315",
   "execution_count": 13
  },
  {
   "cell_type": "code",
   "outputs": [
    {
     "data": {
      "text/plain": "{'Trisha': 14, 'Kaila': 17, 'Derek': 19}"
     },
     "execution_count": 26,
     "metadata": {},
     "output_type": "execute_result"
    }
   ],
   "source": [
    "family_dict2 = {name:age for age,name in sorted(family_dict.items()) if age <20}\n",
    "family_dict2"
   ],
   "metadata": {
    "collapsed": false,
    "ExecuteTime": {
     "end_time": "2024-03-05T04:59:42.574880Z",
     "start_time": "2024-03-05T04:59:42.572143Z"
    }
   },
   "id": "6f6c2a979e3e880a",
   "execution_count": 26
  },
  {
   "cell_type": "markdown",
   "source": [
    "## unpacking mappings with **"
   ],
   "metadata": {
    "collapsed": false
   },
   "id": "cf567107a29037a5"
  },
  {
   "cell_type": "code",
   "outputs": [
    {
     "name": "stdout",
     "output_type": "stream",
     "text": [
      "(1, 2)\n"
     ]
    },
    {
     "data": {
      "text/plain": "{'z': -1, 'y': -2, 'a': 0, 'b': 3, 'w': 5, 'x': 4}"
     },
     "execution_count": 44,
     "metadata": {},
     "output_type": "execute_result"
    }
   ],
   "source": [
    "def dump(*args, **kwargs): #unpqck them into a dict\n",
    "  print(args)\n",
    "  return kwargs\n",
    "\n",
    "dump(1,2,**{'z': -1, 'y': -2},a = 0, b= 3, **{'w' : 5, 'x' :4}) # ** to unpack them to pass into function **kwargs"
   ],
   "metadata": {
    "collapsed": false,
    "ExecuteTime": {
     "end_time": "2024-03-05T05:09:59.338031Z",
     "start_time": "2024-03-05T05:09:59.335463Z"
    }
   },
   "id": "4010512deae74597",
   "execution_count": 44
  },
  {
   "cell_type": "markdown",
   "source": [
    "## immutable types and containers containing only immutable types are hashable, can check this with hash()"
   ],
   "metadata": {
    "collapsed": false
   },
   "id": "1dded08b116d054f"
  },
  {
   "cell_type": "code",
   "outputs": [
    {
     "name": "stdout",
     "output_type": "stream",
     "text": [
      "529344067295497451\n"
     ]
    },
    {
     "ename": "TypeError",
     "evalue": "unhashable type: 'list'",
     "output_type": "error",
     "traceback": [
      "\u001B[0;31m---------------------------------------------------------------------------\u001B[0m",
      "\u001B[0;31mTypeError\u001B[0m                                 Traceback (most recent call last)",
      "Cell \u001B[0;32mIn[6], line 4\u001B[0m\n\u001B[1;32m      2\u001B[0m \u001B[38;5;28mprint\u001B[39m(\u001B[38;5;28mhash\u001B[39m(t1))\n\u001B[1;32m      3\u001B[0m t2 \u001B[38;5;241m=\u001B[39m (\u001B[38;5;241m1\u001B[39m,\u001B[38;5;241m2\u001B[39m,[\u001B[38;5;241m3\u001B[39m,\u001B[38;5;241m4\u001B[39m]) \u001B[38;5;66;03m# ssince the list [3,4] is mutable it won't  be hashable \u001B[39;00m\n\u001B[0;32m----> 4\u001B[0m \u001B[38;5;28;43mhash\u001B[39;49m\u001B[43m(\u001B[49m\u001B[43mt2\u001B[49m\u001B[43m)\u001B[49m\n",
      "\u001B[0;31mTypeError\u001B[0m: unhashable type: 'list'"
     ]
    }
   ],
   "source": [
    "t1 = (1,2,3)\n",
    "print(hash(t1))\n",
    "t2 = (1,2,[3,4]) # ssince the list [3,4] is mutable it won't  be hashable \n",
    "hash(t2)"
   ],
   "metadata": {
    "collapsed": false,
    "ExecuteTime": {
     "end_time": "2024-03-08T04:26:32.345106Z",
     "start_time": "2024-03-08T04:26:32.330904Z"
    }
   },
   "id": "6d4757bcb84f1062",
   "execution_count": 6
  },
  {
   "cell_type": "markdown",
   "source": [
    "## HANDLING MISSING/DEFAULT VALUES ON DICTIONARIES\n",
    " inserting or updating values using set_default with .append"
   ],
   "metadata": {
    "collapsed": false
   },
   "id": "875793a6f21a117f"
  },
  {
   "cell_type": "code",
   "outputs": [
    {
     "name": "stdout",
     "output_type": "stream",
     "text": [
      "[]\n",
      "['AAAAA']\n",
      "['AAAAA', 'AAAAA']\n",
      "['AAAAA', 'AAAAA', 'AAAAA']\n",
      "['AAAAA', 'AAAAA', 'AAAAA', 'AAAAA']\n",
      "['AAAAA', 'AAAAA', 'AAAAA', 'AAAAA', 'AAAAA']\n",
      "['AAAAA', 'AAAAA', 'AAAAA', 'AAAAA', 'AAAAA', 'AAAAA']\n",
      "['AAAAA', 'AAAAA', 'AAAAA', 'AAAAA', 'AAAAA', 'AAAAA', 'AAAAA']\n",
      "['AAAAA', 'AAAAA', 'AAAAA', 'AAAAA', 'AAAAA', 'AAAAA', 'AAAAA', 'AAAAA']\n",
      "['AAAAA', 'AAAAA', 'AAAAA', 'AAAAA', 'AAAAA', 'AAAAA', 'AAAAA', 'AAAAA', 'AAAAA']\n"
     ]
    }
   ],
   "source": [
    "index = {}\n",
    "for _ in range(10):\n",
    "  char = input('Enter a character: ')\n",
    "  #this part is super inefficient with as little as 2 at most 3 lookups\n",
    "  lookup = index.get(char,[]) # if not ofund return emptylist\n",
    "  print(lookup)\n",
    "  lookup.append(char*5)# append our character (repeated 5 times) to our list \n",
    "  index[char]=lookup  #assign it back to the correct spot in the ditionary"
   ],
   "metadata": {
    "collapsed": false,
    "ExecuteTime": {
     "end_time": "2024-03-11T05:12:06.831910Z",
     "start_time": "2024-03-11T05:12:01.467703Z"
    }
   },
   "id": "5233aecbe2046238",
   "execution_count": 4
  },
  {
   "cell_type": "code",
   "outputs": [
    {
     "name": "stdout",
     "output_type": "stream",
     "text": [
      "['a']\n",
      "['a', 'a']\n",
      "['a', 'a', 'a']\n",
      "['a', 'a', 'a', 'a']\n",
      "['a', 'a', 'a', 'a', 'a']\n",
      "['a', 'a', 'a', 'a', 'a', 'a']\n",
      "['a', 'a', 'a', 'a', 'a', 'a', 'a']\n",
      "['a', 'a', 'a', 'a', 'a', 'a', 'a', 'a']\n",
      "['a', 'a', 'a', 'a', 'a', 'a', 'a', 'a', 'a']\n",
      "['b']\n"
     ]
    }
   ],
   "source": [
    "#here's a more efficent way to do it that uses set_defalt and append in one line\n",
    "index = {}\n",
    "for _ in range(3):\n",
    "  char = input('Enter a character:')\n",
    "  index.setdefault(char,[]).append(char) #all in one command set if to empty list if not found if not returns the list at that key and then you append the char/str\n",
    "  print(index[char])\n",
    "  \n",
    "\n"
   ],
   "metadata": {
    "collapsed": false,
    "ExecuteTime": {
     "end_time": "2024-03-11T05:05:42.389060Z",
     "start_time": "2024-03-11T05:05:33.153755Z"
    }
   },
   "id": "f78e907a29515e59",
   "execution_count": 2
  },
  {
   "cell_type": "code",
   "outputs": [
    {
     "ename": "KeyboardInterrupt",
     "evalue": "",
     "output_type": "error",
     "traceback": [
      "\u001B[0;31m---------------------------------------------------------------------------\u001B[0m",
      "\u001B[0;31mKeyboardInterrupt\u001B[0m                         Traceback (most recent call last)",
      "Cell \u001B[0;32mIn[13], line 6\u001B[0m\n\u001B[1;32m      4\u001B[0m \u001B[38;5;28;01mfor\u001B[39;00m _ \u001B[38;5;129;01min\u001B[39;00m \u001B[38;5;28mrange\u001B[39m(\u001B[38;5;241m3\u001B[39m):\n\u001B[1;32m      5\u001B[0m   char \u001B[38;5;241m=\u001B[39m \u001B[38;5;28minput\u001B[39m(\u001B[38;5;124m'\u001B[39m\u001B[38;5;124menter a character:\u001B[39m\u001B[38;5;124m'\u001B[39m)\n\u001B[0;32m----> 6\u001B[0m   \u001B[43mindex\u001B[49m[char]\u001B[38;5;241m.\u001B[39mappend(char) \u001B[38;5;66;03m#shorter command then the previous since if it doens't exist it just uses the default factory as the itial default and allows the append to proceed\u001B[39;00m\n\u001B[1;32m      7\u001B[0m   \u001B[38;5;28mprint\u001B[39m(index[char])\n",
      "Cell \u001B[0;32mIn[13], line 6\u001B[0m\n\u001B[1;32m      4\u001B[0m \u001B[38;5;28;01mfor\u001B[39;00m _ \u001B[38;5;129;01min\u001B[39;00m \u001B[38;5;28mrange\u001B[39m(\u001B[38;5;241m3\u001B[39m):\n\u001B[1;32m      5\u001B[0m   char \u001B[38;5;241m=\u001B[39m \u001B[38;5;28minput\u001B[39m(\u001B[38;5;124m'\u001B[39m\u001B[38;5;124menter a character:\u001B[39m\u001B[38;5;124m'\u001B[39m)\n\u001B[0;32m----> 6\u001B[0m   \u001B[43mindex\u001B[49m[char]\u001B[38;5;241m.\u001B[39mappend(char) \u001B[38;5;66;03m#shorter command then the previous since if it doens't exist it just uses the default factory as the itial default and allows the append to proceed\u001B[39;00m\n\u001B[1;32m      7\u001B[0m   \u001B[38;5;28mprint\u001B[39m(index[char])\n",
      "File \u001B[0;32m_pydevd_bundle/pydevd_cython_darwin_310_64.pyx:1187\u001B[0m, in \u001B[0;36m_pydevd_bundle.pydevd_cython_darwin_310_64.SafeCallWrapper.__call__\u001B[0;34m()\u001B[0m\n",
      "File \u001B[0;32m_pydevd_bundle/pydevd_cython_darwin_310_64.pyx:627\u001B[0m, in \u001B[0;36m_pydevd_bundle.pydevd_cython_darwin_310_64.PyDBFrame.trace_dispatch\u001B[0;34m()\u001B[0m\n",
      "File \u001B[0;32m_pydevd_bundle/pydevd_cython_darwin_310_64.pyx:1103\u001B[0m, in \u001B[0;36m_pydevd_bundle.pydevd_cython_darwin_310_64.PyDBFrame.trace_dispatch\u001B[0;34m()\u001B[0m\n",
      "File \u001B[0;32m_pydevd_bundle/pydevd_cython_darwin_310_64.pyx:1065\u001B[0m, in \u001B[0;36m_pydevd_bundle.pydevd_cython_darwin_310_64.PyDBFrame.trace_dispatch\u001B[0;34m()\u001B[0m\n",
      "File \u001B[0;32m_pydevd_bundle/pydevd_cython_darwin_310_64.pyx:585\u001B[0m, in \u001B[0;36m_pydevd_bundle.pydevd_cython_darwin_310_64.PyDBFrame.do_wait_suspend\u001B[0;34m()\u001B[0m\n",
      "File \u001B[0;32m/Applications/PyCharm.app/Contents/plugins/python/helpers/pydev/pydevd.py:1184\u001B[0m, in \u001B[0;36mPyDB.do_wait_suspend\u001B[0;34m(self, thread, frame, event, arg, send_suspend_message, is_unhandled_exception)\u001B[0m\n\u001B[1;32m   1181\u001B[0m         from_this_thread\u001B[38;5;241m.\u001B[39mappend(frame_id)\n\u001B[1;32m   1183\u001B[0m \u001B[38;5;28;01mwith\u001B[39;00m \u001B[38;5;28mself\u001B[39m\u001B[38;5;241m.\u001B[39m_threads_suspended_single_notification\u001B[38;5;241m.\u001B[39mnotify_thread_suspended(thread_id, stop_reason):\n\u001B[0;32m-> 1184\u001B[0m     \u001B[38;5;28;43mself\u001B[39;49m\u001B[38;5;241;43m.\u001B[39;49m\u001B[43m_do_wait_suspend\u001B[49m\u001B[43m(\u001B[49m\u001B[43mthread\u001B[49m\u001B[43m,\u001B[49m\u001B[43m \u001B[49m\u001B[43mframe\u001B[49m\u001B[43m,\u001B[49m\u001B[43m \u001B[49m\u001B[43mevent\u001B[49m\u001B[43m,\u001B[49m\u001B[43m \u001B[49m\u001B[43marg\u001B[49m\u001B[43m,\u001B[49m\u001B[43m \u001B[49m\u001B[43msuspend_type\u001B[49m\u001B[43m,\u001B[49m\u001B[43m \u001B[49m\u001B[43mfrom_this_thread\u001B[49m\u001B[43m)\u001B[49m\n",
      "File \u001B[0;32m/Applications/PyCharm.app/Contents/plugins/python/helpers/pydev/pydevd.py:1199\u001B[0m, in \u001B[0;36mPyDB._do_wait_suspend\u001B[0;34m(self, thread, frame, event, arg, suspend_type, from_this_thread)\u001B[0m\n\u001B[1;32m   1196\u001B[0m             \u001B[38;5;28mself\u001B[39m\u001B[38;5;241m.\u001B[39m_call_mpl_hook()\n\u001B[1;32m   1198\u001B[0m         \u001B[38;5;28mself\u001B[39m\u001B[38;5;241m.\u001B[39mprocess_internal_commands()\n\u001B[0;32m-> 1199\u001B[0m         \u001B[43mtime\u001B[49m\u001B[38;5;241;43m.\u001B[39;49m\u001B[43msleep\u001B[49m\u001B[43m(\u001B[49m\u001B[38;5;241;43m0.01\u001B[39;49m\u001B[43m)\u001B[49m\n\u001B[1;32m   1201\u001B[0m \u001B[38;5;28mself\u001B[39m\u001B[38;5;241m.\u001B[39mcancel_async_evaluation(get_current_thread_id(thread), \u001B[38;5;28mstr\u001B[39m(\u001B[38;5;28mid\u001B[39m(frame)))\n\u001B[1;32m   1203\u001B[0m \u001B[38;5;66;03m# process any stepping instructions\u001B[39;00m\n",
      "\u001B[0;31mKeyboardInterrupt\u001B[0m: "
     ]
    }
   ],
   "source": [
    "# you can alos use default dict to supply a default_factory in the constructor such as\n",
    "import collections\n",
    "index = collections.defaultdict(list) # make list the default factory generator\n",
    "for _ in range(3):\n",
    "  char = input('enter a character:')\n",
    "  index[char].append(char) #shorter command then the previous since if it doens't exist it just uses the default factory as the itial default and allows the append to proceed\n",
    "  print(index[char])"
   ],
   "metadata": {
    "collapsed": false,
    "ExecuteTime": {
     "end_time": "2024-03-11T05:31:49.370475Z",
     "start_time": "2024-03-11T05:31:11.087845Z"
    }
   },
   "id": "2105fab1549dc778",
   "execution_count": 13
  },
  {
   "cell_type": "markdown",
   "source": [
    "## SUBCLASSING DICT TO HANDLE GET_ITEM AND MISSING TO ALLOW NUMBERS OR STR KEYS"
   ],
   "metadata": {
    "collapsed": false
   },
   "id": "2e53298217418775"
  },
  {
   "cell_type": "code",
   "outputs": [
    {
     "name": "stdout",
     "output_type": "stream",
     "text": [
      "with normal way of accessing keys\n",
      "in __getitem__ with 1 of type <class 'int'>\n",
      "in __missing__ with 1 of type <class 'int'>\n",
      "in __getitem__ with 1 of type <class 'str'>\n",
      "1\n",
      "now with get\n",
      "In get with 1 of type <class 'int'>\n",
      "in __getitem__ with 1 of type <class 'int'>\n",
      "in __missing__ with 1 of type <class 'int'>\n",
      "in __getitem__ with 1 of type <class 'str'>\n",
      "1\n"
     ]
    }
   ],
   "source": [
    "#subclass dict and use __missing__ and get to force __getitem__ to be called \n",
    "class MyDict(dict):\n",
    "  def __missing__(self, key): \n",
    "    print(f'in __missing__ with {key} of type {type(key)}')\n",
    "    if isinstance(key,str):\n",
    "      raise KeyError(key)\n",
    "    else:\n",
    "      return self[str(key)] #try again the str version if it isn't\n",
    "  def __getitem__(self, item):\n",
    "      print(f'in __getitem__ with {item} of type {type(item)}')\n",
    "      return dict.__getitem__(self, item)\n",
    "  def get(self, key, default=None): #i fyou don't do this __getitem__ and in tern missing wouldn't be called with get\n",
    "    try:\n",
    "      print(f'In get with {key} of type {type(key)}')\n",
    "      return self[key] #force the __get_item__ and hence the __missing to be called\n",
    "    except KeyError: #this would happen if the __missing__ still gives a key error after trying with the str version\n",
    "      return default\n",
    "  def __contains__(self, key): # to allow this to work with numbers also \n",
    "    return key in self.keys() or str(key) in self.keys()\n",
    "mydict = MyDict([('1',1),('2',2),('3',3)])\n",
    "print('with normal way of accessing keys')\n",
    "print(mydict[1])\n",
    "print('now with get')\n",
    "print(mydict.get(1))"
   ],
   "metadata": {
    "collapsed": false,
    "ExecuteTime": {
     "end_time": "2024-03-11T05:41:22.605868Z",
     "start_time": "2024-03-11T05:41:22.599357Z"
    }
   },
   "id": "e3c5e8a2ea2628e7",
   "execution_count": 33
  },
  {
   "cell_type": "code",
   "outputs": [],
   "source": [],
   "metadata": {
    "collapsed": false
   },
   "id": "927b0606517097b9"
  }
 ],
 "metadata": {
  "kernelspec": {
   "display_name": "Python 3",
   "language": "python",
   "name": "python3"
  },
  "language_info": {
   "codemirror_mode": {
    "name": "ipython",
    "version": 2
   },
   "file_extension": ".py",
   "mimetype": "text/x-python",
   "name": "python",
   "nbconvert_exporter": "python",
   "pygments_lexer": "ipython2",
   "version": "2.7.6"
  }
 },
 "nbformat": 4,
 "nbformat_minor": 5
}
