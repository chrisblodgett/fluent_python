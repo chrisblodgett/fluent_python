{
 "cells": [
  {
   "cell_type": "code",
   "execution_count": 81,
   "id": "initial_id",
   "metadata": {
    "collapsed": true,
    "ExecuteTime": {
     "end_time": "2024-02-17T18:18:41.315719Z",
     "start_time": "2024-02-17T18:18:41.312053Z"
    }
   },
   "outputs": [
    {
     "data": {
      "text/plain": "True"
     },
     "execution_count": 81,
     "metadata": {},
     "output_type": "execute_result"
    }
   ],
   "source": [
    "import random\n",
    "import time\n",
    "from collections import abc\n",
    "\n",
    "issubclass(list, abc.Sequence)  #list , bytearray, array.array, collections.deque are mutable sequences"
   ]
  },
  {
   "cell_type": "code",
   "execution_count": 82,
   "outputs": [
    {
     "data": {
      "text/plain": "False"
     },
     "execution_count": 82,
     "metadata": {},
     "output_type": "execute_result"
    }
   ],
   "source": [
    "issubclass(tuple, abc.MutableSequence)  #immutable sequences tuple str bytes"
   ],
   "metadata": {
    "collapsed": false,
    "ExecuteTime": {
     "end_time": "2024-02-17T18:18:42.199588Z",
     "start_time": "2024-02-17T18:18:42.194069Z"
    }
   },
   "id": "bbe2adf9728badeb"
  },
  {
   "cell_type": "markdown",
   "source": [
    "# LIST COMPREHENSION - LISTCOMP  [ ] \n",
    "## CREATING IT AND WHAT IT'S GOOD AT\n"
   ],
   "metadata": {
    "collapsed": false
   },
   "id": "e2e2d43d27a53256"
  },
  {
   "cell_type": "code",
   "execution_count": 84,
   "outputs": [
    {
     "data": {
      "text/plain": "[33, 64, 35, 36, 37]"
     },
     "execution_count": 84,
     "metadata": {},
     "output_type": "execute_result"
    }
   ],
   "source": [
    "symbols = '!@#$%'\n",
    "codes = [ord(s) for s in symbols]  # list comprehension pythonic way of doing things for readability \n",
    "codes"
   ],
   "metadata": {
    "collapsed": false,
    "ExecuteTime": {
     "end_time": "2024-02-17T18:20:02.396176Z",
     "start_time": "2024-02-17T18:20:02.392515Z"
    }
   },
   "id": "f059964ce67a74ca"
  },
  {
   "cell_type": "code",
   "execution_count": 85,
   "outputs": [
    {
     "data": {
      "text/plain": "[('black', 'S'),\n ('black', 'M'),\n ('black', 'L'),\n ('white', 'S'),\n ('white', 'M'),\n ('white', 'L')]"
     },
     "execution_count": 85,
     "metadata": {},
     "output_type": "execute_result"
    }
   ],
   "source": [
    "# listcomp in the use of cartesian products\n",
    "colors = ['black', 'white']\n",
    "sizes = ['S', 'M', 'L']\n",
    "\n",
    "shirts = [(c, s) for c in colors  #inside [] () {} line breaks are ignored \n",
    "          for s in sizes]  # it will loop the sizes for every color \n",
    "shirts"
   ],
   "metadata": {
    "collapsed": false,
    "ExecuteTime": {
     "end_time": "2024-02-17T18:20:06.232562Z",
     "start_time": "2024-02-17T18:20:06.228641Z"
    }
   },
   "id": "f170717f8222f029"
  },
  {
   "cell_type": "markdown",
   "source": [
    "# GENERATOR EXPRESSIONS - GENEXP ()\n",
    "## ONE AT A TIME PROCESSING INSTEAD OF ALL AT ONCE"
   ],
   "metadata": {
    "collapsed": false
   },
   "id": "867b1e1769823022"
  },
  {
   "cell_type": "code",
   "execution_count": 86,
   "outputs": [
    {
     "name": "stdout",
     "output_type": "stream",
     "text": [
      "<generator object <genexpr> at 0x1106ab5a0>\n",
      "(33, 64, 35, 36, 37)\n",
      "()\n"
     ]
    }
   ],
   "source": [
    " # use genexp to make them one by one instead of all at once\n",
    "symbols = '!@#$%'\n",
    "codes = (ord(s) for s in symbols)  # codes is a genexp now you can use to retrieve indivudal items \n",
    "print(codes)\n",
    "print(tuple(codes))\n",
    "#now are codes are empty\n",
    "print(tuple(codes))"
   ],
   "metadata": {
    "collapsed": false,
    "ExecuteTime": {
     "end_time": "2024-02-17T18:21:30.308521Z",
     "start_time": "2024-02-17T18:21:30.304292Z"
    }
   },
   "id": "590043f5de6c4568"
  },
  {
   "cell_type": "code",
   "execution_count": 148,
   "outputs": [
    {
     "name": "stdout",
     "output_type": "stream",
     "text": [
      "---black,S---\n",
      "---black,M---\n",
      "---black,L---\n",
      "---white,S---\n",
      "---white,M---\n",
      "---white,L---\n",
      "<generator object <genexpr> at 0x117b7bb50>\n",
      "black\n",
      "('white',)\n",
      "()\n"
     ]
    }
   ],
   "source": [
    "colors = ['black', 'white']\n",
    "sizes = ['S', 'M', 'L']\n",
    "\n",
    "for tshirt in (f'---{c},{s}---' for c in colors for s in sizes):  #formating string is genexp\n",
    "    print(tshirt)\n",
    "\n",
    "colors = (c for c in colors)\n",
    "print(colors)# genexp, if we print them out them are gone\n",
    "for c in colors:\n",
    "    print(c)\n",
    "    break # break so we have one color left\n",
    "print(tuple(colors)) # print it out showing we only have one\n",
    "print(tuple(colors)) # now nothing\n"
   ],
   "metadata": {
    "collapsed": false,
    "ExecuteTime": {
     "end_time": "2024-02-21T17:08:22.983691Z",
     "start_time": "2024-02-21T17:08:22.975591Z"
    }
   },
   "id": "e0790f22be17b87f"
  },
  {
   "cell_type": "code",
   "execution_count": 88,
   "outputs": [
    {
     "name": "stdout",
     "output_type": "stream",
     "text": [
      "FRA/5678\n",
      "USA/1234\n",
      "USA\n",
      "FRA\n"
     ]
    }
   ],
   "source": [
    "#more on tuples \n",
    "city, year = ('Tokyo', 2024)  #unpqck into variables\n",
    "traveler_ids = [('USA', 1234), ('FRA', 5678)]\n",
    "for id in sorted(traveler_ids):\n",
    "    print(\"%s/%s\" % id)  # the % will unpack into the %s's\n",
    "for country, _ in traveler_ids:  # use _ as a dummy variable\n",
    "    print(country)"
   ],
   "metadata": {
    "collapsed": false,
    "ExecuteTime": {
     "end_time": "2024-02-17T18:21:46.487888Z",
     "start_time": "2024-02-17T18:21:46.482287Z"
    }
   },
   "id": "1bc4e5eb3e6d7ea8"
  },
  {
   "cell_type": "code",
   "execution_count": 66,
   "outputs": [
    {
     "name": "stdout",
     "output_type": "stream",
     "text": [
      "0 1 [2, 3, 4, 5, 6, 7, 8, 9]\n"
     ]
    }
   ],
   "source": [
    "x, y, *z = range(0, 10)  #unpack the rest into z\n",
    "print(x, y, z)"
   ],
   "metadata": {
    "collapsed": false,
    "ExecuteTime": {
     "end_time": "2024-02-15T23:55:23.197569Z",
     "start_time": "2024-02-15T23:55:23.191192Z"
    }
   },
   "id": "916b21ebc6c24d27"
  },
  {
   "cell_type": "code",
   "execution_count": 72,
   "outputs": [
    {
     "name": "stdout",
     "output_type": "stream",
     "text": [
      "0 [1, 2, 3, 4, 5, 6, 7, 8] 9\n"
     ]
    }
   ],
   "source": [
    "x, *y, z = range(0, 10)  #unpack the ends into x and z the rest in y\n",
    "print(x, y, z)"
   ],
   "metadata": {
    "collapsed": false,
    "ExecuteTime": {
     "end_time": "2024-02-15T23:59:18.480939Z",
     "start_time": "2024-02-15T23:59:18.475080Z"
    }
   },
   "id": "19c3b13fbb643d23"
  },
  {
   "cell_type": "code",
   "execution_count": 80,
   "outputs": [
    {
     "data": {
      "text/plain": "(1, 2, 0, 1, (2, 3, 4, 5, 6, 7, 8, 9))"
     },
     "execution_count": 80,
     "metadata": {},
     "output_type": "execute_result"
    }
   ],
   "source": [
    "#unpacking in funciton calls and definitions\n",
    "\n",
    "def fun(a, b, c, d, *rest):\n",
    "    return a, b, c, d, rest #if i return *rest it would unpack the tupled packed rest\n",
    "fun(*[1,2], *range(10)) #xpand all params\n"
   ],
   "metadata": {
    "collapsed": false,
    "ExecuteTime": {
     "end_time": "2024-02-17T08:27:06.712866Z",
     "start_time": "2024-02-17T08:27:06.711313Z"
    }
   },
   "id": "2144fb1c061205ed"
  },
  {
   "cell_type": "markdown",
   "source": [
    "## Pattern matching with sequences using match and case"
   ],
   "metadata": {
    "collapsed": false
   },
   "id": "f118f6077a298412"
  },
  {
   "cell_type": "code",
   "execution_count": 133,
   "outputs": [
    {
     "name": "stdout",
     "output_type": "stream",
     "text": [
      "usa ['8', '0', '1', '6', '5', '1', '1', '9', '4', '7']\n"
     ]
    }
   ],
   "source": [
    "phone = input()\n",
    "match tuple(phone): # tuple make it into a sequence string (+byte,bytearray) by itself cannot be used in a match/case\n",
    "    case['1',*rest] if rest:\n",
    "        print(f\"usa {rest}\")\n",
    "    case['4','4',*rest] if rest:\n",
    "        print(f\"UK {rest}\") \n",
    "    case['8','1' as sec,*rest] if rest:\n",
    "        print(f\"japan {rest}\")  \n",
    "    case _:\n",
    "        raise(SyntaxError('no matchie'))"
   ],
   "metadata": {
    "collapsed": false,
    "ExecuteTime": {
     "end_time": "2024-02-19T06:56:22.799071Z",
     "start_time": "2024-02-19T06:56:19.016138Z"
    }
   },
   "id": "3192f1df0d2129be"
  },
  {
   "cell_type": "code",
   "execution_count": 128,
   "outputs": [],
   "source": [
    "import timeit\n",
    "import numpy as np\n",
    "import sys\n",
    "\n",
    "\n",
    "number_of_iterations=0\n",
    "\n",
    "def bubble(my_list):\n",
    "    \"\"\"\n",
    "    good old bubble sort on list of integer O(N^2) :)\n",
    "    \"\"\"\n",
    "    global number_of_iterations\n",
    "\n",
    "    switched = False\n",
    "    number_of_iterations = number_of_iterations+1 #how many times through the list\n",
    "    for counter,_ in enumerate(my_list[:-1]): # we could have used range, len as well, \n",
    "        if my_list[counter]>my_list[counter + 1]:\n",
    "            tmp=my_list[counter]\n",
    "            my_list[counter]=my_list[counter+1] \n",
    "            my_list[counter+1]=tmp\n",
    "            switched=True\n",
    "    if switched: #if we made any switching then we can't be sure the list is sorted must call it again \n",
    "        my_list = bubble(my_list)\n",
    "    return my_list"
   ],
   "metadata": {
    "collapsed": false,
    "ExecuteTime": {
     "end_time": "2024-02-21T16:46:03.242323Z",
     "start_time": "2024-02-21T16:46:03.184618Z"
    }
   },
   "id": "7c6fb13af835a30c"
  },
  {
   "cell_type": "code",
   "execution_count": 129,
   "outputs": [
    {
     "name": "stdout",
     "output_type": "stream",
     "text": [
      "starting bubble\n",
      "3000 size: 2905 full passes * 3000 comparisons/swaps\n",
      "starting bubble\n",
      "3000 size: 2880 full passes * 3000 comparisons/swaps\n",
      "starting bubble\n",
      "3000 size: 2834 full passes * 3000 comparisons/swaps\n",
      "0.6738301249958264 sec. on average, ran 3 iterations\n"
     ]
    }
   ],
   "source": [
    "\n",
    "\n",
    "\n",
    "sys.setrecursionlimit(10000) #let's go deep without raising errors\n",
    "list_size = 3000 #list of size in the range of 0-list-size\n",
    "def bubble_call():\n",
    "    global number_of_iterations\n",
    "    print('starting bubble')\n",
    "    number_of_iterations=0\n",
    "    random_stuff = list(np.random.randint(0, list_size, list_size))\n",
    "    #print(f\"{'*'*10}{random_stuff}{'*'*10}\")\n",
    "    #print(f\"{'*'*10}{bubble(my_list=random_stuff)}{'*'*10}\")  \n",
    "    bubble(my_list=random_stuff)\n",
    "    print(f\"{list_size} size: {number_of_iterations} full passes * {list_size} comparisons/swaps\")\n",
    "number_of_repeats = 3  # Number of times to repeat the measurement\n",
    "timer = timeit.Timer(bubble_call) \n",
    "time_taken = timer.timeit(number=number_of_repeats)\n",
    "print(f\"{time_taken/number_of_repeats} sec. on average, ran {number_of_repeats} iterations\")\n",
    "#print(time_taken)"
   ],
   "metadata": {
    "collapsed": false,
    "ExecuteTime": {
     "end_time": "2024-02-21T16:46:05.856880Z",
     "start_time": "2024-02-21T16:46:03.830909Z"
    }
   },
   "id": "3e29cff0494de3e5"
  },
  {
   "cell_type": "code",
   "execution_count": 136,
   "outputs": [
    {
     "name": "stdout",
     "output_type": "stream",
     "text": [
      "[2, 3, 5, 7, 11, 13, 17, 19]\n",
      "[103, 107, 109, 113]\n"
     ]
    }
   ],
   "source": [
    "import math\n",
    "\n",
    "def find_primes(min_num, max_num):\n",
    "    primes=[]\n",
    "    for num1 in range(max(2,min_num), max_num): # prime numbers are positive numbers greater then 2 (start at 2)\n",
    "        prime=True\n",
    "        for num2 in range(2, int(math.sqrt(num1))+1):\n",
    "            if num1 % num2 == 0 :\n",
    "                prime=False\n",
    "                break\n",
    "        if prime:\n",
    "            primes.append(num1)\n",
    "    return primes  \n",
    "print(find_primes(2,20))            \n",
    "print(find_primes(102,122))        "
   ],
   "metadata": {
    "collapsed": false,
    "ExecuteTime": {
     "end_time": "2024-02-21T16:52:26.866131Z",
     "start_time": "2024-02-21T16:52:26.860900Z"
    }
   },
   "id": "83e07027664eba28"
  },
  {
   "cell_type": "code",
   "execution_count": null,
   "outputs": [],
   "source": [],
   "metadata": {
    "collapsed": false
   },
   "id": "9eb02e20cb31fcb1"
  }
 ],
 "metadata": {
  "kernelspec": {
   "display_name": "Python 3",
   "language": "python",
   "name": "python3"
  },
  "language_info": {
   "codemirror_mode": {
    "name": "ipython",
    "version": 2
   },
   "file_extension": ".py",
   "mimetype": "text/x-python",
   "name": "python",
   "nbconvert_exporter": "python",
   "pygments_lexer": "ipython2",
   "version": "2.7.6"
  }
 },
 "nbformat": 4,
 "nbformat_minor": 5
}
