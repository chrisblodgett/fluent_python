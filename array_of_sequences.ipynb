{
 "cells": [
  {
   "cell_type": "code",
   "execution_count": 10,
   "id": "initial_id",
   "metadata": {
    "collapsed": true,
    "ExecuteTime": {
     "end_time": "2024-02-15T21:51:29.298897Z",
     "start_time": "2024-02-15T21:51:29.297164Z"
    }
   },
   "outputs": [
    {
     "data": {
      "text/plain": "True"
     },
     "execution_count": 10,
     "metadata": {},
     "output_type": "execute_result"
    }
   ],
   "source": [
    "from collections import abc\n",
    "issubclass(list, abc.Sequence) #list , bytearray, array.array, collections.deque are mutable sequences"
   ]
  },
  {
   "cell_type": "code",
   "execution_count": 11,
   "outputs": [
    {
     "data": {
      "text/plain": "False"
     },
     "execution_count": 11,
     "metadata": {},
     "output_type": "execute_result"
    }
   ],
   "source": [
    "issubclass(tuple, abc.MutableSequence) #immutable sequences tuple str bytes"
   ],
   "metadata": {
    "collapsed": false,
    "ExecuteTime": {
     "end_time": "2024-02-15T21:51:31.895732Z",
     "start_time": "2024-02-15T21:51:31.890569Z"
    }
   },
   "id": "bbe2adf9728badeb"
  },
  {
   "cell_type": "code",
   "execution_count": 16,
   "outputs": [
    {
     "data": {
      "text/plain": "[33, 64, 35, 36, 37]"
     },
     "execution_count": 16,
     "metadata": {},
     "output_type": "execute_result"
    }
   ],
   "source": [
    "symbols = '!@#$%'\n",
    "codes = [ord(s) for s in symbols] # list comprehension pythonic way of doing things for readability \n",
    "codes"
   ],
   "metadata": {
    "collapsed": false,
    "ExecuteTime": {
     "end_time": "2024-02-15T21:55:29.613276Z",
     "start_time": "2024-02-15T21:55:29.610111Z"
    }
   },
   "id": "f059964ce67a74ca"
  },
  {
   "cell_type": "code",
   "execution_count": 29,
   "outputs": [
    {
     "data": {
      "text/plain": "[('black', 'S'),\n ('black', 'M'),\n ('black', 'L'),\n ('white', 'S'),\n ('white', 'M'),\n ('white', 'L')]"
     },
     "execution_count": 29,
     "metadata": {},
     "output_type": "execute_result"
    }
   ],
   "source": [
    "# listcomp in the use of cartesian products\n",
    "colors = ['black', 'white']\n",
    "sizes = ['S','M','L']\n",
    "\n",
    "shirts = [(c,s) for c in colors #inside [] () {} line breaks are ignored \n",
    "                    for s in sizes] # it will loop the sizes for every color \n",
    "shirts"
   ],
   "metadata": {
    "collapsed": false,
    "ExecuteTime": {
     "end_time": "2024-02-15T22:02:17.813774Z",
     "start_time": "2024-02-15T22:02:17.810599Z"
    }
   },
   "id": "f170717f8222f029"
  },
  {
   "cell_type": "code",
   "execution_count": 39,
   "outputs": [
    {
     "name": "stdout",
     "output_type": "stream",
     "text": [
      "<generator object <genexpr> at 0x110664900>\n",
      "(33, 64, 35, 36, 37)\n",
      "()\n"
     ]
    }
   ],
   "source": [
    " # use genexp to make them one by one instead of all at once\n",
    "symbols = '!@#$%'\n",
    "codes = (ord(s) for s in symbols) # codes is a genexp now you can use to retrieve indivudal items \n",
    "print(codes)\n",
    "print(tuple(codes))\n",
    "#now are codes are empty\n",
    "print(tuple(codes))"
   ],
   "metadata": {
    "collapsed": false,
    "ExecuteTime": {
     "end_time": "2024-02-15T22:08:48.277726Z",
     "start_time": "2024-02-15T22:08:48.272495Z"
    }
   },
   "id": "590043f5de6c4568"
  },
  {
   "cell_type": "code",
   "execution_count": 48,
   "outputs": [
    {
     "name": "stdout",
     "output_type": "stream",
     "text": [
      "---black,S---\n",
      "---black,M---\n",
      "---black,L---\n",
      "---white,S---\n",
      "---white,M---\n",
      "---white,L---\n"
     ]
    }
   ],
   "source": [
    "colors = ['black', 'white']\n",
    "sizes = ['S','M','L']\n",
    "\n",
    "for tshirt in (f'---{c},{s}---' for c in colors for s in sizes): #formating string is genexp\n",
    "    print(tshirt)"
   ],
   "metadata": {
    "collapsed": false,
    "ExecuteTime": {
     "end_time": "2024-02-15T22:13:43.056549Z",
     "start_time": "2024-02-15T22:13:43.053221Z"
    }
   },
   "id": "e0790f22be17b87f"
  },
  {
   "cell_type": "code",
   "execution_count": 56,
   "outputs": [
    {
     "name": "stdout",
     "output_type": "stream",
     "text": [
      "FRA/5678\n",
      "USA/1234\n",
      "USA\n",
      "FRA\n"
     ]
    }
   ],
   "source": [
    "#more on tuples \n",
    "city,year =('Tokyo', 2024) #unpqck into variables\n",
    "traveler_ids = [('USA',1234),('FRA',5678)]\n",
    "for id in sorted(traveler_ids):\n",
    "    print(\"%s/%s\" % id) # the % will unpack into the %s's\n",
    "for country,_ in traveler_ids: # use _ as a dummy variable\n",
    "    print(country)"
   ],
   "metadata": {
    "collapsed": false,
    "ExecuteTime": {
     "end_time": "2024-02-15T22:21:14.527756Z",
     "start_time": "2024-02-15T22:21:14.521846Z"
    }
   },
   "id": "1bc4e5eb3e6d7ea8"
  },
  {
   "cell_type": "code",
   "execution_count": null,
   "outputs": [],
   "source": [],
   "metadata": {
    "collapsed": false
   },
   "id": "916b21ebc6c24d27"
  }
 ],
 "metadata": {
  "kernelspec": {
   "display_name": "Python 3",
   "language": "python",
   "name": "python3"
  },
  "language_info": {
   "codemirror_mode": {
    "name": "ipython",
    "version": 2
   },
   "file_extension": ".py",
   "mimetype": "text/x-python",
   "name": "python",
   "nbconvert_exporter": "python",
   "pygments_lexer": "ipython2",
   "version": "2.7.6"
  }
 },
 "nbformat": 4,
 "nbformat_minor": 5
}
