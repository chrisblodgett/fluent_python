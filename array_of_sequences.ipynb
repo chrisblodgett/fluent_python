{
 "cells": [
  {
   "cell_type": "code",
   "execution_count": 155,
   "id": "initial_id",
   "metadata": {
    "collapsed": true,
    "ExecuteTime": {
     "end_time": "2024-02-21T18:00:34.083810Z",
     "start_time": "2024-02-21T18:00:34.078077Z"
    }
   },
   "outputs": [
    {
     "data": {
      "text/plain": "True"
     },
     "execution_count": 155,
     "metadata": {},
     "output_type": "execute_result"
    }
   ],
   "source": [
    "from collections import abc\n",
    "\n",
    "issubclass(list, abc.Sequence)  #list , bytearray, array.array, collections.deque are mutable sequences"
   ]
  },
  {
   "cell_type": "code",
   "execution_count": 156,
   "outputs": [
    {
     "data": {
      "text/plain": "False"
     },
     "execution_count": 156,
     "metadata": {},
     "output_type": "execute_result"
    }
   ],
   "source": [
    "issubclass(tuple, abc.MutableSequence)  #immutable sequences tuple str bytes"
   ],
   "metadata": {
    "collapsed": false,
    "ExecuteTime": {
     "end_time": "2024-02-21T18:00:34.487254Z",
     "start_time": "2024-02-21T18:00:34.479402Z"
    }
   },
   "id": "bbe2adf9728badeb"
  },
  {
   "cell_type": "markdown",
   "source": [
    "# LIST COMPREHENSION - LISTCOMP  [ ] \n",
    "## CREATING IT AND WHAT IT'S GOOD AT\n"
   ],
   "metadata": {
    "collapsed": false
   },
   "id": "e2e2d43d27a53256"
  },
  {
   "cell_type": "code",
   "execution_count": 157,
   "outputs": [
    {
     "data": {
      "text/plain": "[33, 64, 35, 36, 37]"
     },
     "execution_count": 157,
     "metadata": {},
     "output_type": "execute_result"
    }
   ],
   "source": [
    "symbols = '!@#$%'\n",
    "codes = [ord(s) for s in symbols]  # list comprehension pythonic way of doing things for readability \n",
    "codes"
   ],
   "metadata": {
    "collapsed": false,
    "ExecuteTime": {
     "end_time": "2024-02-21T18:00:35.991124Z",
     "start_time": "2024-02-21T18:00:35.988620Z"
    }
   },
   "id": "f059964ce67a74ca"
  },
  {
   "cell_type": "code",
   "execution_count": 158,
   "outputs": [
    {
     "data": {
      "text/plain": "[('black', 'S'),\n ('black', 'M'),\n ('black', 'L'),\n ('white', 'S'),\n ('white', 'M'),\n ('white', 'L')]"
     },
     "execution_count": 158,
     "metadata": {},
     "output_type": "execute_result"
    }
   ],
   "source": [
    "# listcomp in the use of cartesian products\n",
    "colors = ['black', 'white']\n",
    "sizes = ['S', 'M', 'L']\n",
    "\n",
    "shirts = [(c, s) for c in colors  #inside [] () {} line breaks are ignored \n",
    "          for s in sizes]  # it will loop the sizes for every color \n",
    "shirts"
   ],
   "metadata": {
    "collapsed": false,
    "ExecuteTime": {
     "end_time": "2024-02-21T18:00:36.513997Z",
     "start_time": "2024-02-21T18:00:36.508634Z"
    }
   },
   "id": "f170717f8222f029"
  },
  {
   "cell_type": "markdown",
   "source": [
    "# GENERATOR EXPRESSIONS - GENEXP ()\n",
    "## ONE AT A TIME PROCESSING INSTEAD OF ALL AT ONCE"
   ],
   "metadata": {
    "collapsed": false
   },
   "id": "867b1e1769823022"
  },
  {
   "cell_type": "code",
   "execution_count": 159,
   "outputs": [
    {
     "name": "stdout",
     "output_type": "stream",
     "text": [
      "<generator object <genexpr> at 0x117ac4eb0>\n",
      "(33, 64, 35, 36, 37)\n",
      "()\n"
     ]
    }
   ],
   "source": [
    " # use genexp to make them one by one instead of all at once\n",
    "symbols = '!@#$%'\n",
    "codes = (ord(s) for s in symbols)  # codes is a genexp now you can use to retrieve indivudal items \n",
    "print(codes)\n",
    "print(tuple(codes))\n",
    "#now are codes are empty\n",
    "print(tuple(codes))"
   ],
   "metadata": {
    "collapsed": false,
    "ExecuteTime": {
     "end_time": "2024-02-21T18:00:37.720181Z",
     "start_time": "2024-02-21T18:00:37.716445Z"
    }
   },
   "id": "590043f5de6c4568"
  },
  {
   "cell_type": "code",
   "execution_count": 160,
   "outputs": [
    {
     "name": "stdout",
     "output_type": "stream",
     "text": [
      "---black,S---\n",
      "---black,M---\n",
      "---black,L---\n",
      "---white,S---\n",
      "---white,M---\n",
      "---white,L---\n",
      "<generator object <genexpr> at 0x117ac51c0>\n",
      "black\n",
      "('white',)\n",
      "()\n"
     ]
    }
   ],
   "source": [
    "colors = ['black', 'white']\n",
    "sizes = ['S', 'M', 'L']\n",
    "\n",
    "for tshirt in (f'---{c},{s}---' for c in colors for s in sizes):  #formating string is genexp\n",
    "    print(tshirt)\n",
    "\n",
    "colors = (c for c in colors)\n",
    "print(colors)  # genexp, if we print them out them are gone\n",
    "for c in colors:\n",
    "    print(c)\n",
    "    break  # break so we have one color left\n",
    "print(tuple(colors))  # print it out showing we only have one\n",
    "print(tuple(colors))  # now nothing\n"
   ],
   "metadata": {
    "collapsed": false,
    "ExecuteTime": {
     "end_time": "2024-02-21T18:00:38.278511Z",
     "start_time": "2024-02-21T18:00:38.270838Z"
    }
   },
   "id": "e0790f22be17b87f"
  },
  {
   "cell_type": "code",
   "execution_count": 161,
   "outputs": [
    {
     "name": "stdout",
     "output_type": "stream",
     "text": [
      "FRA/5678\n",
      "USA/1234\n",
      "USA\n",
      "FRA\n"
     ]
    }
   ],
   "source": [
    "#more on tuples \n",
    "city, year = ('Tokyo', 2024)  #unpqck into variables\n",
    "traveler_ids = [('USA', 1234), ('FRA', 5678)]\n",
    "for id in sorted(traveler_ids):\n",
    "    print(\"%s/%s\" % id)  # the % will unpack into the %s's\n",
    "for country, _ in traveler_ids:  # use _ as a dummy variable\n",
    "    print(country)"
   ],
   "metadata": {
    "collapsed": false,
    "ExecuteTime": {
     "end_time": "2024-02-21T18:00:38.877968Z",
     "start_time": "2024-02-21T18:00:38.872548Z"
    }
   },
   "id": "1bc4e5eb3e6d7ea8"
  },
  {
   "cell_type": "code",
   "execution_count": 162,
   "outputs": [
    {
     "name": "stdout",
     "output_type": "stream",
     "text": [
      "0 1 [2, 3, 4, 5, 6, 7, 8, 9]\n"
     ]
    }
   ],
   "source": [
    "x, y, *z = range(0, 10)  #unpack the rest into z\n",
    "print(x, y, z)"
   ],
   "metadata": {
    "collapsed": false,
    "ExecuteTime": {
     "end_time": "2024-02-21T18:00:39.444781Z",
     "start_time": "2024-02-21T18:00:39.435476Z"
    }
   },
   "id": "916b21ebc6c24d27"
  },
  {
   "cell_type": "code",
   "execution_count": 163,
   "outputs": [
    {
     "name": "stdout",
     "output_type": "stream",
     "text": [
      "0 [1, 2, 3, 4, 5, 6, 7, 8] 9\n"
     ]
    }
   ],
   "source": [
    "x, *y, z = range(0, 10)  #unpack the ends into x and z the rest in y\n",
    "print(x, y, z)"
   ],
   "metadata": {
    "collapsed": false,
    "ExecuteTime": {
     "end_time": "2024-02-21T18:00:39.983163Z",
     "start_time": "2024-02-21T18:00:39.978379Z"
    }
   },
   "id": "19c3b13fbb643d23"
  },
  {
   "cell_type": "code",
   "execution_count": 164,
   "outputs": [
    {
     "data": {
      "text/plain": "(1, 2, 0, 1, (2, 3, 4, 5, 6, 7, 8, 9))"
     },
     "execution_count": 164,
     "metadata": {},
     "output_type": "execute_result"
    }
   ],
   "source": [
    "#unpacking in funciton calls and definitions\n",
    "\n",
    "def fun(a, b, c, d, *rest):\n",
    "    return a, b, c, d, rest  #if i return *rest it would unpack the tupled packed rest\n",
    "\n",
    "\n",
    "fun(*[1, 2], *range(10))  #xpand all params\n"
   ],
   "metadata": {
    "collapsed": false,
    "ExecuteTime": {
     "end_time": "2024-02-21T18:00:40.463831Z",
     "start_time": "2024-02-21T18:00:40.461658Z"
    }
   },
   "id": "2144fb1c061205ed"
  },
  {
   "cell_type": "markdown",
   "source": [
    "## Pattern matching with sequences using match and case"
   ],
   "metadata": {
    "collapsed": false
   },
   "id": "f118f6077a298412"
  },
  {
   "cell_type": "code",
   "execution_count": 2,
   "outputs": [
    {
     "name": "stdout",
     "output_type": "stream",
     "text": [
      "[2, 3, 5, 7, 11, 13, 17, 19]\n"
     ]
    }
   ],
   "source": [
    "import math\n",
    "\n",
    "def find_primes(min_num, max_num):\n",
    "    primes = []\n",
    "    for num1 in range(max(2, min_num), max_num):  # prime numbers are positive numbers greater than 2 (start at 2)\n",
    "        prime = True\n",
    "        for num2 in range(2, int(math.sqrt(num1)) + 1): #check for divisors from 2 to about the sqrt of the number\n",
    "            if num1 % num2 == 0:\n",
    "                prime = False\n",
    "                break\n",
    "        if prime:\n",
    "            primes.append(num1)\n",
    "    return primes\n",
    "\n",
    "\n",
    "print(find_primes(2, 20))"
   ],
   "metadata": {
    "collapsed": false,
    "ExecuteTime": {
     "end_time": "2024-02-22T23:47:05.999016Z",
     "start_time": "2024-02-22T23:47:05.987653Z"
    }
   },
   "id": "39ab2693810bcc2c"
  },
  {
   "cell_type": "code",
   "execution_count": 11,
   "outputs": [
    {
     "name": "stdout",
     "output_type": "stream",
     "text": [
      "this is the first description         item 1\n",
      "a really cool item                   item 2\n",
      "not as cool                          item 3\n",
      " \n"
     ]
    }
   ],
   "source": [
    "# you can do name slices and then apply them\n",
    "items = \"\"\"\n",
    "this is the first description        item 1\n",
    "a really cool item                  item 2\n",
    "not as cool                         item 3\n",
    "\"\"\"\n",
    "DESCRIPTION = slice(0,35)\n",
    "ITEM = slice(35,43)\n",
    "lines = items.split('\\n')[1:]\n",
    "for item in lines:\n",
    "    print(item[DESCRIPTION],item[ITEM]) # use the slice here to pull out only that column range"
   ],
   "metadata": {
    "collapsed": false,
    "ExecuteTime": {
     "end_time": "2024-02-22T23:54:42.523782Z",
     "start_time": "2024-02-22T23:54:42.502664Z"
    }
   },
   "id": "fb45d4e97fd35d06"
  },
  {
   "cell_type": "code",
   "execution_count": null,
   "outputs": [],
   "source": [],
   "metadata": {
    "collapsed": false
   },
   "id": "d14703d33f438813"
  }
 ],
 "metadata": {
  "kernelspec": {
   "display_name": "Python 3",
   "language": "python",
   "name": "python3"
  },
  "language_info": {
   "codemirror_mode": {
    "name": "ipython",
    "version": 2
   },
   "file_extension": ".py",
   "mimetype": "text/x-python",
   "name": "python",
   "nbconvert_exporter": "python",
   "pygments_lexer": "ipython2",
   "version": "2.7.6"
  }
 },
 "nbformat": 4,
 "nbformat_minor": 5
}
