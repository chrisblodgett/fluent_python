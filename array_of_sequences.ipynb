{
 "cells": [
  {
   "cell_type": "markdown",
   "source": [
    "# Sequences VOILA"
   ],
   "metadata": {
    "collapsed": false
   },
   "id": "abef0125230ccfeb"
  },
  {
   "cell_type": "code",
   "outputs": [
    {
     "data": {
      "text/plain": "True"
     },
     "execution_count": 1,
     "metadata": {},
     "output_type": "execute_result"
    }
   ],
   "source": [
    "import time\n",
    "from collections import abc #abc AbstractBaseClass \n",
    "\n",
    "issubclass(list, abc.Sequence)  #list , bytearray, array.array, collections.deque are mutable sequences"
   ],
   "metadata": {
    "collapsed": true,
    "ExecuteTime": {
     "end_time": "2024-05-16T18:42:48.778575Z",
     "start_time": "2024-05-16T18:42:48.771806Z"
    }
   },
   "id": "initial_id",
   "execution_count": 1
  },
  {
   "cell_type": "code",
   "execution_count": 92,
   "outputs": [
    {
     "data": {
      "text/plain": "False"
     },
     "execution_count": 92,
     "metadata": {},
     "output_type": "execute_result"
    }
   ],
   "source": [
    "issubclass(tuple, abc.MutableSequence)  #immutable sequences tuple str bytes"
   ],
   "metadata": {
    "collapsed": false,
    "ExecuteTime": {
     "end_time": "2024-03-03T16:43:20.237540Z",
     "start_time": "2024-03-03T16:43:20.209468Z"
    }
   },
   "id": "bbe2adf9728badeb"
  },
  {
   "cell_type": "markdown",
   "source": [
    "# LIST COMPREHENSION - LISTCOMP  [ ] \n",
    "## GREEDY EXECUTION \n"
   ],
   "metadata": {
    "collapsed": false
   },
   "id": "e2e2d43d27a53256"
  },
  {
   "cell_type": "code",
   "execution_count": 93,
   "outputs": [
    {
     "data": {
      "text/plain": "[33, 64, 35, 36, 37]"
     },
     "execution_count": 93,
     "metadata": {},
     "output_type": "execute_result"
    }
   ],
   "source": [
    "symbols: str = '!@#$%'\n",
    "codes: list[int] = [ord(s) for s in symbols]  # list comprehension pythonic way of doing things for readability \n",
    "codes"
   ],
   "metadata": {
    "collapsed": false,
    "ExecuteTime": {
     "end_time": "2024-03-03T16:43:22.939146Z",
     "start_time": "2024-03-03T16:43:22.935323Z"
    }
   },
   "id": "f059964ce67a74ca"
  },
  {
   "cell_type": "code",
   "execution_count": 94,
   "outputs": [
    {
     "data": {
      "text/plain": "[('black', 'S'),\n ('black', 'M'),\n ('black', 'L'),\n ('white', 'S'),\n ('white', 'M'),\n ('white', 'L')]"
     },
     "execution_count": 94,
     "metadata": {},
     "output_type": "execute_result"
    }
   ],
   "source": [
    "# listcomp in the use of cartesian products\n",
    "colors = ['black', 'white']\n",
    "sizes = ['S', 'M', 'L']\n",
    "\n",
    "shirts = [(c, s) for c in colors  #inside [] () {} line breaks are ignored \n",
    "          for s in sizes]  # it will loop the sizes for every color \n",
    "shirts"
   ],
   "metadata": {
    "collapsed": false,
    "ExecuteTime": {
     "end_time": "2024-03-03T16:43:24.123870Z",
     "start_time": "2024-03-03T16:43:24.108694Z"
    }
   },
   "id": "f170717f8222f029"
  },
  {
   "cell_type": "markdown",
   "source": [
    "# GENERATOR EXPRESSIONS - GENEXP ()\n",
    "## ONE AT A TIME PROCESSING INSTEAD OF ALL AT ONCE"
   ],
   "metadata": {
    "collapsed": false
   },
   "id": "867b1e1769823022"
  },
  {
   "cell_type": "code",
   "execution_count": 95,
   "outputs": [
    {
     "name": "stdout",
     "output_type": "stream",
     "text": [
      "<generator object <genexpr> at 0x15226f1b0>\n",
      "(33, 64, 35, 36, 37)\n",
      "()\n"
     ]
    }
   ],
   "source": [
    " # use genexp to make them one by one instead of all at once\n",
    "symbols: str  = '!@#$%'\n",
    "codes = (ord(s) for s in symbols)  # codes is a genexp now you can use to retrieve indivudal items \n",
    "print(codes)\n",
    "print(tuple(codes))\n",
    "#now are codes are empty\n",
    "print(tuple(codes))"
   ],
   "metadata": {
    "collapsed": false,
    "ExecuteTime": {
     "end_time": "2024-03-03T16:43:26.898544Z",
     "start_time": "2024-03-03T16:43:26.891257Z"
    }
   },
   "id": "590043f5de6c4568"
  },
  {
   "cell_type": "code",
   "execution_count": 96,
   "outputs": [
    {
     "name": "stdout",
     "output_type": "stream",
     "text": [
      "---black,S---\n",
      "---black,M---\n",
      "---black,L---\n",
      "---white,S---\n",
      "---white,M---\n",
      "---white,L---\n",
      "<generator object <genexpr> at 0x15226f530>\n",
      "black\n",
      "('white',)\n",
      "()\n"
     ]
    }
   ],
   "source": [
    "colors = ['black', 'white']\n",
    "sizes = ['S', 'M', 'L']\n",
    "\n",
    "for tshirt in (f'---{c},{s}---' for c in colors for s in sizes):  #formating string is genexp\n",
    "    print(tshirt)\n",
    "\n",
    "colors = (c for c in colors)\n",
    "print(colors)  # genexp, if we print them out them are gone\n",
    "for c in colors:\n",
    "    print(c)\n",
    "    break  # break so we have one color left\n",
    "print(tuple(colors))  # print it out showing we only have one\n",
    "print(tuple(colors))  # now nothing\n"
   ],
   "metadata": {
    "collapsed": false,
    "ExecuteTime": {
     "end_time": "2024-03-03T16:43:29.316658Z",
     "start_time": "2024-03-03T16:43:29.312714Z"
    }
   },
   "id": "e0790f22be17b87f"
  },
  {
   "cell_type": "code",
   "execution_count": 97,
   "outputs": [
    {
     "name": "stdout",
     "output_type": "stream",
     "text": [
      "FRA/5678\n",
      "USA/1234\n",
      "USA\n",
      "FRA\n"
     ]
    }
   ],
   "source": [
    "#more on tuples \n",
    "city, year = ('Tokyo', 2024)  #unpqck into variables\n",
    "traveler_ids = [('USA', 1234), ('FRA', 5678)]\n",
    "for _id in sorted(traveler_ids):\n",
    "    print(\"%s/%s\" % _id)  # the % will unpack into the %s's\n",
    "for country, _ in traveler_ids:  # use _ as a dummy variable\n",
    "    print(country)"
   ],
   "metadata": {
    "collapsed": false,
    "ExecuteTime": {
     "end_time": "2024-03-03T16:43:29.833611Z",
     "start_time": "2024-03-03T16:43:29.829224Z"
    }
   },
   "id": "1bc4e5eb3e6d7ea8"
  },
  {
   "cell_type": "code",
   "execution_count": 98,
   "outputs": [
    {
     "name": "stdout",
     "output_type": "stream",
     "text": [
      "0 1 [2, 3, 4, 5, 6, 7, 8, 9]\n"
     ]
    }
   ],
   "source": [
    "x, y, *z = range(0, 10)  #unpack the rest into z\n",
    "print(x, y, z)"
   ],
   "metadata": {
    "collapsed": false,
    "ExecuteTime": {
     "end_time": "2024-03-03T16:43:31.252246Z",
     "start_time": "2024-03-03T16:43:31.245683Z"
    }
   },
   "id": "916b21ebc6c24d27"
  },
  {
   "cell_type": "code",
   "execution_count": 99,
   "outputs": [
    {
     "name": "stdout",
     "output_type": "stream",
     "text": [
      "0 [1, 2, 3, 4, 5, 6, 7, 8] 9\n"
     ]
    }
   ],
   "source": [
    "x, *y, z = range(0, 10)  #unpack the ends into x and z the rest in y\n",
    "print(x, y, z)"
   ],
   "metadata": {
    "collapsed": false,
    "ExecuteTime": {
     "end_time": "2024-03-03T16:43:32.880648Z",
     "start_time": "2024-03-03T16:43:32.873074Z"
    }
   },
   "id": "19c3b13fbb643d23"
  },
  {
   "cell_type": "code",
   "execution_count": 100,
   "outputs": [
    {
     "data": {
      "text/plain": "(1, 2, 0, 1, (2, 3, 4, 5, 6, 7, 8, 9))"
     },
     "execution_count": 100,
     "metadata": {},
     "output_type": "execute_result"
    }
   ],
   "source": [
    "#unpacking in funciton calls and definitions\n",
    "\n",
    "def fun(a, b, c, d, *rest):\n",
    "    return a, b, c, d, rest  #if i return *rest it would unpack the tupled packed rest\n",
    "\n",
    "\n",
    "fun(*[1, 2], *range(10))  #xpand all params\n"
   ],
   "metadata": {
    "collapsed": false,
    "ExecuteTime": {
     "end_time": "2024-03-03T16:43:33.280634Z",
     "start_time": "2024-03-03T16:43:33.275165Z"
    }
   },
   "id": "2144fb1c061205ed"
  },
  {
   "cell_type": "markdown",
   "source": [
    "## Pattern matching with sequences using match and case"
   ],
   "metadata": {
    "collapsed": false
   },
   "id": "f118f6077a298412"
  },
  {
   "cell_type": "code",
   "execution_count": 101,
   "outputs": [
    {
     "name": "stdout",
     "output_type": "stream",
     "text": [
      "you entered a 1 and  ['8', '0', '1', '6', '5', '1', '1', '9', '4', '7']\n"
     ]
    }
   ],
   "source": [
    "match tuple(input('Enter a number: ')):\n",
    "    case ['1',*rest]:\n",
    "        print(\"you entered a 1 and \",rest)\n",
    "    case [*first,'2',]:\n",
    "        print(first,\"2\")"
   ],
   "metadata": {
    "collapsed": false,
    "ExecuteTime": {
     "end_time": "2024-03-03T16:43:42.900023Z",
     "start_time": "2024-03-03T16:43:34.296279Z"
    }
   },
   "id": "39ab2693810bcc2c"
  },
  {
   "cell_type": "markdown",
   "source": [
    "## Named slices then applying them "
   ],
   "metadata": {
    "collapsed": false
   },
   "id": "fdbd6a86bf407933"
  },
  {
   "cell_type": "code",
   "execution_count": 102,
   "outputs": [
    {
     "name": "stdout",
     "output_type": "stream",
     "text": [
      "this is the first description         item 1\n",
      "a really cool item                   item 2\n",
      "not as cool                          item 3\n",
      " \n"
     ]
    }
   ],
   "source": [
    "# you can do name slices and then apply them\n",
    "items = \"\"\"\n",
    "this is the first description        item 1\n",
    "a really cool item                  item 2\n",
    "not as cool                         item 3\n",
    "\"\"\"\n",
    "DESCRIPTION = slice(0,35)\n",
    "ITEM = slice(35,43)\n",
    "lines = items.split('\\n')[1:]\n",
    "for item in lines:\n",
    "    print(item[DESCRIPTION],item[ITEM]) # use the slice here to pull out only that column range"
   ],
   "metadata": {
    "collapsed": false,
    "ExecuteTime": {
     "end_time": "2024-03-03T16:43:44.289328Z",
     "start_time": "2024-03-03T16:43:44.284006Z"
    }
   },
   "id": "fb45d4e97fd35d06"
  },
  {
   "cell_type": "markdown",
   "source": [
    "## Using * to repeat lists, and lists of lists, and lists of lists of ... :) "
   ],
   "metadata": {
    "collapsed": false
   },
   "id": "87c016ec21f70de8"
  },
  {
   "cell_type": "code",
   "execution_count": 103,
   "outputs": [
    {
     "data": {
      "text/plain": "[1, 2, 3, [4, 5], 1, 2, 3, [4, 5], 1, 2, 3, [4, 5]]"
     },
     "execution_count": 103,
     "metadata": {},
     "output_type": "execute_result"
    }
   ],
   "source": [
    "# you can use * to repeat lists \n",
    "l = [1,2,3,[4,5]]\n",
    "l*3 # repeat itself 3 times "
   ],
   "metadata": {
    "collapsed": false,
    "ExecuteTime": {
     "end_time": "2024-03-03T16:43:45.105090Z",
     "start_time": "2024-03-03T16:43:45.100104Z"
    }
   },
   "id": "d14703d33f438813"
  },
  {
   "cell_type": "code",
   "outputs": [
    {
     "data": {
      "text/plain": "'abcabcabcabcabcabcabcabcabcabc'"
     },
     "execution_count": 104,
     "metadata": {},
     "output_type": "execute_result"
    }
   ],
   "source": [
    "'abc'*10"
   ],
   "metadata": {
    "collapsed": false,
    "ExecuteTime": {
     "end_time": "2024-03-03T16:43:45.457684Z",
     "start_time": "2024-03-03T16:43:45.452337Z"
    }
   },
   "id": "de0f5f136e3a5c18",
   "execution_count": 104
  },
  {
   "cell_type": "code",
   "outputs": [],
   "source": [
    "#let's make a tic tac toe board using * on lists\n",
    "board = [[' '] * 3 for _ in range (3)]\n",
    "    "
   ],
   "metadata": {
    "collapsed": false,
    "ExecuteTime": {
     "end_time": "2024-03-03T16:43:45.893075Z",
     "start_time": "2024-03-03T16:43:45.881613Z"
    }
   },
   "id": "c0cbb8dbca14550a",
   "execution_count": 105
  },
  {
   "cell_type": "code",
   "outputs": [
    {
     "data": {
      "text/plain": "[[' ', ' ', ' '], [' ', ' ', ' '], [' ', ' ', ' ']]"
     },
     "execution_count": 106,
     "metadata": {},
     "output_type": "execute_result"
    }
   ],
   "source": [
    "board"
   ],
   "metadata": {
    "collapsed": false,
    "ExecuteTime": {
     "end_time": "2024-03-03T16:43:46.281372Z",
     "start_time": "2024-03-03T16:43:46.276173Z"
    }
   },
   "id": "b11c9f9333fb1f02",
   "execution_count": 106
  },
  {
   "cell_type": "code",
   "outputs": [],
   "source": [
    "board[1][1]='X'"
   ],
   "metadata": {
    "collapsed": false,
    "ExecuteTime": {
     "end_time": "2024-03-03T16:43:46.655769Z",
     "start_time": "2024-03-03T16:43:46.649975Z"
    }
   },
   "id": "b1bc6bdb0f67e2d2",
   "execution_count": 107
  },
  {
   "cell_type": "code",
   "outputs": [
    {
     "data": {
      "text/plain": "[[' ', ' ', ' '], [' ', 'X', ' '], [' ', ' ', ' ']]"
     },
     "execution_count": 108,
     "metadata": {},
     "output_type": "execute_result"
    }
   ],
   "source": [
    "board"
   ],
   "metadata": {
    "collapsed": false,
    "ExecuteTime": {
     "end_time": "2024-03-03T16:43:46.996472Z",
     "start_time": "2024-03-03T16:43:46.991367Z"
    }
   },
   "id": "56d428331d97c257",
   "execution_count": 108
  },
  {
   "cell_type": "code",
   "outputs": [],
   "source": [
    "#tempting to do this\n",
    "board = [[' ']*3]* 3\n"
   ],
   "metadata": {
    "collapsed": false,
    "ExecuteTime": {
     "end_time": "2024-03-03T16:43:47.352866Z",
     "start_time": "2024-03-03T16:43:47.346278Z"
    }
   },
   "id": "e3623878564dd415",
   "execution_count": 109
  },
  {
   "cell_type": "code",
   "outputs": [
    {
     "data": {
      "text/plain": "[['X', ' ', ' '], ['X', ' ', ' '], ['X', ' ', ' ']]"
     },
     "execution_count": 110,
     "metadata": {},
     "output_type": "execute_result"
    }
   ],
   "source": [
    "board[0][0]='X' # but as you see it references the same list 3 times so it's not what you would probably want\n",
    "board"
   ],
   "metadata": {
    "collapsed": false,
    "ExecuteTime": {
     "end_time": "2024-03-03T16:43:47.734360Z",
     "start_time": "2024-03-03T16:43:47.725380Z"
    }
   },
   "id": "c174c7b7a5c292eb",
   "execution_count": 110
  },
  {
   "cell_type": "markdown",
   "source": [
    "## Augmented assignment with sequences using += and *="
   ],
   "metadata": {
    "collapsed": false
   },
   "id": "952753c1d7285dab"
  },
  {
   "cell_type": "code",
   "outputs": [
    {
     "data": {
      "text/plain": "4393357120"
     },
     "execution_count": 111,
     "metadata": {},
     "output_type": "execute_result"
    }
   ],
   "source": [
    "#augmented assignment with sequences += and *=\n",
    "#these correspond to magic methods __iadd__ in place addition fall back is __add__\n",
    "list1 = [1,2,3]\n",
    "id(list1)"
   ],
   "metadata": {
    "collapsed": false,
    "ExecuteTime": {
     "end_time": "2024-03-03T16:43:48.608356Z",
     "start_time": "2024-03-03T16:43:48.603333Z"
    }
   },
   "id": "175017ebf6a99b4d",
   "execution_count": 111
  },
  {
   "cell_type": "code",
   "outputs": [
    {
     "name": "stdout",
     "output_type": "stream",
     "text": [
      "[1, 2, 3, 1, 2, 3, 1, 2, 3]\n"
     ]
    },
    {
     "data": {
      "text/plain": "4393357120"
     },
     "execution_count": 112,
     "metadata": {},
     "output_type": "execute_result"
    }
   ],
   "source": [
    "list1 *= 3 #in place\n",
    "print(list1)\n",
    "id(list1) # it references the same object/same id"
   ],
   "metadata": {
    "collapsed": false,
    "ExecuteTime": {
     "end_time": "2024-03-03T16:43:48.989817Z",
     "start_time": "2024-03-03T16:43:48.984433Z"
    }
   },
   "id": "f08201ea1e5a1016",
   "execution_count": 112
  },
  {
   "cell_type": "code",
   "outputs": [
    {
     "name": "stdout",
     "output_type": "stream",
     "text": [
      "4393095104\n"
     ]
    },
    {
     "data": {
      "text/plain": "4388737248"
     },
     "execution_count": 113,
     "metadata": {},
     "output_type": "execute_result"
    }
   ],
   "source": [
    "#for tuples a new object is created\n",
    "tuple1 = (1,2,3)    \n",
    "print(id(tuple1))\n",
    "tuple1 *= 3 \n",
    "id(tuple1) # these wont' match because the in place editing created a new object since tuples are immutable "
   ],
   "metadata": {
    "collapsed": false,
    "ExecuteTime": {
     "end_time": "2024-03-03T16:43:49.385468Z",
     "start_time": "2024-03-03T16:43:49.375072Z"
    }
   },
   "id": "44a844d39bcc606d",
   "execution_count": 113
  },
  {
   "cell_type": "markdown",
   "source": [
    "## A Riddle about modifying tuples/lists with +="
   ],
   "metadata": {
    "collapsed": false
   },
   "id": "fa06b20960a0b741"
  },
  {
   "cell_type": "code",
   "outputs": [
    {
     "ename": "TypeError",
     "evalue": "'tuple' object does not support item assignment",
     "output_type": "error",
     "traceback": [
      "\u001B[0;31m---------------------------------------------------------------------------\u001B[0m",
      "\u001B[0;31mTypeError\u001B[0m                                 Traceback (most recent call last)",
      "Cell \u001B[0;32mIn[114], line 2\u001B[0m\n\u001B[1;32m      1\u001B[0m t \u001B[38;5;241m=\u001B[39m (\u001B[38;5;241m1\u001B[39m,\u001B[38;5;241m2\u001B[39m,[\u001B[38;5;241m3\u001B[39m,\u001B[38;5;241m4\u001B[39m])\n\u001B[0;32m----> 2\u001B[0m \u001B[43mt\u001B[49m\u001B[43m[\u001B[49m\u001B[38;5;241;43m2\u001B[39;49m\u001B[43m]\u001B[49m\u001B[38;5;241m+\u001B[39m\u001B[38;5;241m=\u001B[39m[\u001B[38;5;241m5\u001B[39m,\u001B[38;5;241m6\u001B[39m]\n",
      "\u001B[0;31mTypeError\u001B[0m: 'tuple' object does not support item assignment"
     ]
    }
   ],
   "source": [
    "t = (1,2,[3,4])\n",
    "t[2]+=[5,6]"
   ],
   "metadata": {
    "collapsed": false,
    "ExecuteTime": {
     "end_time": "2024-03-03T16:43:50.281543Z",
     "start_time": "2024-03-03T16:43:50.265097Z"
    }
   },
   "id": "4c77ee7957b3c7ee",
   "execution_count": 114
  },
  {
   "cell_type": "code",
   "outputs": [
    {
     "data": {
      "text/plain": "(1, 2, [3, 4, 5, 6])"
     },
     "execution_count": 115,
     "metadata": {},
     "output_type": "execute_result"
    }
   ],
   "source": [
    "t"
   ],
   "metadata": {
    "collapsed": false,
    "ExecuteTime": {
     "end_time": "2024-03-03T16:43:50.757642Z",
     "start_time": "2024-03-03T16:43:50.736732Z"
    }
   },
   "id": "b439d17b07ade2ef",
   "execution_count": 115
  },
  {
   "cell_type": "markdown",
   "source": [
    "## It added it to the list, but also generated an error?!"
   ],
   "metadata": {
    "collapsed": false
   },
   "id": "65d42e4867c11605"
  },
  {
   "cell_type": "code",
   "outputs": [],
   "source": [
    "from array import array\n",
    "from random import random\n",
    "floats = array('d',[random() for _ in range(10**7)]) # d stands for double precision float, from generator expression for _ in range(10**7)"
   ],
   "metadata": {
    "collapsed": false,
    "ExecuteTime": {
     "end_time": "2024-03-03T16:43:52.249237Z",
     "start_time": "2024-03-03T16:43:51.680840Z"
    }
   },
   "id": "f871c01e22e1b2b2",
   "execution_count": 116
  },
  {
   "cell_type": "code",
   "outputs": [
    {
     "data": {
      "text/plain": "0.530369349065671"
     },
     "execution_count": 117,
     "metadata": {},
     "output_type": "execute_result"
    }
   ],
   "source": [
    "floats[-1]\n"
   ],
   "metadata": {
    "collapsed": false,
    "ExecuteTime": {
     "end_time": "2024-03-03T16:43:52.252459Z",
     "start_time": "2024-03-03T16:43:52.249919Z"
    }
   },
   "id": "e4b7f3a323d1097b",
   "execution_count": 117
  },
  {
   "cell_type": "markdown",
   "source": [
    "## sort vs sorted and using the key to sort by differnt thigns"
   ],
   "metadata": {
    "collapsed": false
   },
   "id": "cf69ce655b156179"
  },
  {
   "cell_type": "code",
   "outputs": [
    {
     "data": {
      "text/plain": "['z', 'apple', 'orange', 'rasberry']"
     },
     "execution_count": 118,
     "metadata": {},
     "output_type": "execute_result"
    }
   ],
   "source": [
    "fruits : list[str] = ['orange','apple','rasberry','z']\n",
    "fruits.sort(key=lambda l_x: len(l_x)) #sort the fruits array in place by the len\n",
    "fruits"
   ],
   "metadata": {
    "collapsed": false,
    "ExecuteTime": {
     "end_time": "2024-03-03T16:43:52.896779Z",
     "start_time": "2024-03-03T16:43:52.892304Z"
    }
   },
   "id": "9f635fe04e829d83",
   "execution_count": 118
  },
  {
   "cell_type": "code",
   "outputs": [
    {
     "data": {
      "text/plain": "['apple', 'orange', 'rasberry', 'z']"
     },
     "execution_count": 119,
     "metadata": {},
     "output_type": "execute_result"
    }
   ],
   "source": [
    "new_fruits = sorted(fruits) #returns a sorted list, using default sort key of alphaetical\n",
    "new_fruits"
   ],
   "metadata": {
    "collapsed": false,
    "ExecuteTime": {
     "end_time": "2024-03-03T16:43:53.411963Z",
     "start_time": "2024-03-03T16:43:53.404541Z"
    }
   },
   "id": "68c974fca0635fe8",
   "execution_count": 119
  },
  {
   "cell_type": "markdown",
   "source": [
    "## arrays are the fastest and most efficient way to store (read and write) numeric values in python"
   ],
   "metadata": {
    "collapsed": false
   },
   "id": "53ef396502acf65e"
  },
  {
   "cell_type": "code",
   "outputs": [
    {
     "name": "stdout",
     "output_type": "stream",
     "text": [
      "0.2753633391396424\n",
      "************0.0191************\n",
      "************0.0219************\n",
      "0.2753633391396424\n",
      "True\n"
     ]
    }
   ],
   "source": [
    "from array import array\n",
    "from random import random\n",
    "import time\n",
    "\n",
    "floats = array('d',[random() for _ in range(10**7)])\n",
    "print(floats[-1])\n",
    "with  open('floats.bin', 'wb') as fp: \n",
    "    tick= time.process_time()\n",
    "    floats.tofile(fp)\n",
    "    print(f\"{time.process_time()-tick:*^30.4f}\")\n",
    "\n",
    "floats2 = array('d')\n",
    "\n",
    "with open('floats.bin', 'rb') as fp:\n",
    "    tick = time.process_time()\n",
    "    floats2.fromfile(fp,10**7) # read a million doubles \n",
    "    print(f\"{time.process_time()-tick:*^30.4f}\")\n",
    "print(floats2[-1])   \n",
    "print(floats==floats2)"
   ],
   "metadata": {
    "collapsed": false,
    "ExecuteTime": {
     "end_time": "2024-03-03T16:43:55.095905Z",
     "start_time": "2024-03-03T16:43:54.282062Z"
    }
   },
   "id": "7e2b3ad778c7f94d",
   "execution_count": 120
  },
  {
   "cell_type": "markdown",
   "source": [
    "## memoryview handle slices of arrays without copying bytes\n",
    "let's you change their shape using cast and modify elements "
   ],
   "metadata": {
    "collapsed": false
   },
   "id": "dc83a76432f980ec"
  },
  {
   "cell_type": "code",
   "outputs": [],
   "source": [
    "from array import array\n",
    "octets = array('B',range(6))\n",
    "m1 = memoryview(octets)\n",
    "m2 = m1.cast('B',(3,2))\n"
   ],
   "metadata": {
    "collapsed": false,
    "ExecuteTime": {
     "end_time": "2024-03-03T16:43:55.243074Z",
     "start_time": "2024-03-03T16:43:55.236527Z"
    }
   },
   "id": "641a372ea1278c26",
   "execution_count": 121
  },
  {
   "cell_type": "code",
   "outputs": [
    {
     "name": "stdout",
     "output_type": "stream",
     "text": [
      "[[0, 1], [2, 3], [4, 5]]\n"
     ]
    },
    {
     "data": {
      "text/plain": "array('B', [0, 1, 2, 33, 4, 5])"
     },
     "execution_count": 122,
     "metadata": {},
     "output_type": "execute_result"
    }
   ],
   "source": [
    "print(m2.tolist())\n",
    "m2[1,1] = 33\n",
    "octets"
   ],
   "metadata": {
    "collapsed": false,
    "ExecuteTime": {
     "end_time": "2024-03-03T16:43:55.718346Z",
     "start_time": "2024-03-03T16:43:55.712644Z"
    }
   },
   "id": "8258eb6734bad528",
   "execution_count": 122
  },
  {
   "cell_type": "markdown",
   "source": [
    "## numpy is the go to for all array and matrix processing "
   ],
   "metadata": {
    "collapsed": false
   },
   "id": "3c3cb888f4f0e0a"
  },
  {
   "cell_type": "code",
   "outputs": [
    {
     "name": "stdout",
     "output_type": "stream",
     "text": [
      "[ 0  1  2  3  4  5  6  7  8  9 10 11] (12,)\n",
      "[[ 0  1  2  3]\n",
      " [ 4  5  6  7]\n",
      " [ 8  9 10 11]]\n",
      " first row [0 1 2 3] \n",
      " second row [4 5 6 7]\n",
      " third row [[ 8  9 10 11]]\n",
      "[[ 0  4  8]\n",
      " [ 1  5  9]\n",
      " [ 2  6 10]\n",
      " [ 3  7 11]]\n",
      "before save [[  0  10  20  30]\n",
      " [ 40  50  60  70]\n",
      " [ 80  90 100 110]]\n",
      "after load [[  0  10  20  30]\n",
      " [ 40  50  60  70]\n",
      " [ 80  90 100 110]]\n"
     ]
    }
   ],
   "source": [
    "import numpy as np\n",
    "\n",
    "np_array = np.arange(12)\n",
    "print(np_array,np_array.shape)\n",
    "np_array.shape = 3,4 # reshape \n",
    "print(np_array)\n",
    "print(f' first row {np_array[0,:]} \\n second row {np_array[1,:]}')\n",
    "print(f' third row {np_array[2:,]}')\n",
    "print(np_array.transpose()) # transpose rose becomes columns and \n",
    "\n",
    "np_array*=10 # scalar multiply entire matrix\n",
    "print('before save', np_array)\n",
    "np.save('np_array.npy',np_array)\n",
    "np_array2 = np.load('np_array.npy')\n",
    "print('after load', np_array2)\n",
    "# columns become rows \n",
    "\n"
   ],
   "metadata": {
    "collapsed": false,
    "ExecuteTime": {
     "end_time": "2024-03-03T17:07:32.142869Z",
     "start_time": "2024-03-03T17:07:32.135880Z"
    }
   },
   "id": "54baf71e5b1f80fb",
   "execution_count": 160
  },
  {
   "cell_type": "markdown",
   "source": [
    "# deque for inserting and removing from both ends of a list in an efficient way"
   ],
   "metadata": {
    "collapsed": false
   },
   "id": "835ab9f6c9507bf"
  },
  {
   "cell_type": "code",
   "outputs": [
    {
     "name": "stdout",
     "output_type": "stream",
     "text": [
      "deque([0, 1, 2, 3, 4, 5, 6, 7, 8, 9], maxlen=10)\n",
      "deque([7, 8, 9, 0, 1, 2, 3, 4, 5, 6], maxlen=10)\n",
      "deque([0, 1, 2, 3, 4, 5, 6, 7, 8, 9], maxlen=10)\n",
      "deque([0, 0, 1, 2, 3, 4, 5, 6, 7, 8], maxlen=10)\n",
      "deque([0, 1, 2, 3, 4, 5, 6, 7, 8, 0], maxlen=10)\n",
      "deque([3, 4, 5, 6, 7, 8, 0, -1, -1, -1], maxlen=10)\n",
      "deque([-1, -1, -1, 3, 4, 5, 6, 7, 8, 0], maxlen=10)\n",
      "deque([-1, -1, 3, 4, 5, 6, 7, 8, 0], maxlen=10)\n",
      "-1\n",
      "deque([-1, -1, 3, 4, 5, 6, 7, 8], maxlen=10)\n",
      "0\n"
     ]
    }
   ],
   "source": [
    "from collections import deque\n",
    "dq = deque(range(10),maxlen=10) # bound it so we keep the last 10 items only \n",
    "print(dq)\n",
    "dq.rotate(3);print(dq) # rotate will move from the back to the front or vice versa automatically \n",
    "dq.rotate(-3);print(dq) # this will rortate teh other direction \n",
    "dq.appendleft(0);print(dq) # will append and push any out the other side\n",
    "dq.append(0);print(dq) # same but at the end \n",
    "dq.extend([-1,-1,-1]);print(dq) # basically this acts as appending multiple elements and pushing any out the other side\n",
    "dq.extendleft([-1,-1,-1]);print(dq) # same thinb but for the left side\n",
    "num = dq.popleft();print(dq);print(num)\n",
    "num = dq.pop();print(dq);print(num)\n"
   ],
   "metadata": {
    "collapsed": false,
    "ExecuteTime": {
     "end_time": "2024-03-03T17:35:22.588125Z",
     "start_time": "2024-03-03T17:35:22.583425Z"
    }
   },
   "id": "f3d00419becca15e",
   "execution_count": 181
  },
  {
   "cell_type": "code",
   "outputs": [],
   "source": [],
   "metadata": {
    "collapsed": false
   },
   "id": "95117e9060210666"
  }
 ],
 "metadata": {
  "kernelspec": {
   "display_name": "Python 3",
   "language": "python",
   "name": "python3"
  },
  "language_info": {
   "codemirror_mode": {
    "name": "ipython",
    "version": 2
   },
   "file_extension": ".py",
   "mimetype": "text/x-python",
   "name": "python",
   "nbconvert_exporter": "python",
   "pygments_lexer": "ipython2",
   "version": "2.7.6"
  }
 },
 "nbformat": 4,
 "nbformat_minor": 5
}
