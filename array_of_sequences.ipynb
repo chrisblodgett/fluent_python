{
 "cells": [
  {
   "cell_type": "code",
   "execution_count": 155,
   "id": "initial_id",
   "metadata": {
    "collapsed": true,
    "ExecuteTime": {
     "end_time": "2024-02-21T18:00:34.083810Z",
     "start_time": "2024-02-21T18:00:34.078077Z"
    }
   },
   "outputs": [
    {
     "data": {
      "text/plain": "True"
     },
     "execution_count": 155,
     "metadata": {},
     "output_type": "execute_result"
    }
   ],
   "source": [
    "from collections import abc\n",
    "\n",
    "issubclass(list, abc.Sequence)  #list , bytearray, array.array, collections.deque are mutable sequences"
   ]
  },
  {
   "cell_type": "code",
   "execution_count": 156,
   "outputs": [
    {
     "data": {
      "text/plain": "False"
     },
     "execution_count": 156,
     "metadata": {},
     "output_type": "execute_result"
    }
   ],
   "source": [
    "issubclass(tuple, abc.MutableSequence)  #immutable sequences tuple str bytes"
   ],
   "metadata": {
    "collapsed": false,
    "ExecuteTime": {
     "end_time": "2024-02-21T18:00:34.487254Z",
     "start_time": "2024-02-21T18:00:34.479402Z"
    }
   },
   "id": "bbe2adf9728badeb"
  },
  {
   "cell_type": "markdown",
   "source": [
    "# LIST COMPREHENSION - LISTCOMP  [ ] \n",
    "## CREATING IT AND WHAT IT'S GOOD AT\n"
   ],
   "metadata": {
    "collapsed": false
   },
   "id": "e2e2d43d27a53256"
  },
  {
   "cell_type": "code",
   "execution_count": 157,
   "outputs": [
    {
     "data": {
      "text/plain": "[33, 64, 35, 36, 37]"
     },
     "execution_count": 157,
     "metadata": {},
     "output_type": "execute_result"
    }
   ],
   "source": [
    "symbols = '!@#$%'\n",
    "codes = [ord(s) for s in symbols]  # list comprehension pythonic way of doing things for readability \n",
    "codes"
   ],
   "metadata": {
    "collapsed": false,
    "ExecuteTime": {
     "end_time": "2024-02-21T18:00:35.991124Z",
     "start_time": "2024-02-21T18:00:35.988620Z"
    }
   },
   "id": "f059964ce67a74ca"
  },
  {
   "cell_type": "code",
   "execution_count": 158,
   "outputs": [
    {
     "data": {
      "text/plain": "[('black', 'S'),\n ('black', 'M'),\n ('black', 'L'),\n ('white', 'S'),\n ('white', 'M'),\n ('white', 'L')]"
     },
     "execution_count": 158,
     "metadata": {},
     "output_type": "execute_result"
    }
   ],
   "source": [
    "# listcomp in the use of cartesian products\n",
    "colors = ['black', 'white']\n",
    "sizes = ['S', 'M', 'L']\n",
    "\n",
    "shirts = [(c, s) for c in colors  #inside [] () {} line breaks are ignored \n",
    "          for s in sizes]  # it will loop the sizes for every color \n",
    "shirts"
   ],
   "metadata": {
    "collapsed": false,
    "ExecuteTime": {
     "end_time": "2024-02-21T18:00:36.513997Z",
     "start_time": "2024-02-21T18:00:36.508634Z"
    }
   },
   "id": "f170717f8222f029"
  },
  {
   "cell_type": "markdown",
   "source": [
    "# GENERATOR EXPRESSIONS - GENEXP ()\n",
    "## ONE AT A TIME PROCESSING INSTEAD OF ALL AT ONCE"
   ],
   "metadata": {
    "collapsed": false
   },
   "id": "867b1e1769823022"
  },
  {
   "cell_type": "code",
   "execution_count": 159,
   "outputs": [
    {
     "name": "stdout",
     "output_type": "stream",
     "text": [
      "<generator object <genexpr> at 0x117ac4eb0>\n",
      "(33, 64, 35, 36, 37)\n",
      "()\n"
     ]
    }
   ],
   "source": [
    " # use genexp to make them one by one instead of all at once\n",
    "symbols = '!@#$%'\n",
    "codes = (ord(s) for s in symbols)  # codes is a genexp now you can use to retrieve indivudal items \n",
    "print(codes)\n",
    "print(tuple(codes))\n",
    "#now are codes are empty\n",
    "print(tuple(codes))"
   ],
   "metadata": {
    "collapsed": false,
    "ExecuteTime": {
     "end_time": "2024-02-21T18:00:37.720181Z",
     "start_time": "2024-02-21T18:00:37.716445Z"
    }
   },
   "id": "590043f5de6c4568"
  },
  {
   "cell_type": "code",
   "execution_count": 160,
   "outputs": [
    {
     "name": "stdout",
     "output_type": "stream",
     "text": [
      "---black,S---\n",
      "---black,M---\n",
      "---black,L---\n",
      "---white,S---\n",
      "---white,M---\n",
      "---white,L---\n",
      "<generator object <genexpr> at 0x117ac51c0>\n",
      "black\n",
      "('white',)\n",
      "()\n"
     ]
    }
   ],
   "source": [
    "colors = ['black', 'white']\n",
    "sizes = ['S', 'M', 'L']\n",
    "\n",
    "for tshirt in (f'---{c},{s}---' for c in colors for s in sizes):  #formating string is genexp\n",
    "    print(tshirt)\n",
    "\n",
    "colors = (c for c in colors)\n",
    "print(colors)# genexp, if we print them out them are gone\n",
    "for c in colors:\n",
    "    print(c)\n",
    "    break # break so we have one color left\n",
    "print(tuple(colors)) # print it out showing we only have one\n",
    "print(tuple(colors)) # now nothing\n"
   ],
   "metadata": {
    "collapsed": false,
    "ExecuteTime": {
     "end_time": "2024-02-21T18:00:38.278511Z",
     "start_time": "2024-02-21T18:00:38.270838Z"
    }
   },
   "id": "e0790f22be17b87f"
  },
  {
   "cell_type": "code",
   "execution_count": 161,
   "outputs": [
    {
     "name": "stdout",
     "output_type": "stream",
     "text": [
      "FRA/5678\n",
      "USA/1234\n",
      "USA\n",
      "FRA\n"
     ]
    }
   ],
   "source": [
    "#more on tuples \n",
    "city, year = ('Tokyo', 2024)  #unpqck into variables\n",
    "traveler_ids = [('USA', 1234), ('FRA', 5678)]\n",
    "for id in sorted(traveler_ids):\n",
    "    print(\"%s/%s\" % id)  # the % will unpack into the %s's\n",
    "for country, _ in traveler_ids:  # use _ as a dummy variable\n",
    "    print(country)"
   ],
   "metadata": {
    "collapsed": false,
    "ExecuteTime": {
     "end_time": "2024-02-21T18:00:38.877968Z",
     "start_time": "2024-02-21T18:00:38.872548Z"
    }
   },
   "id": "1bc4e5eb3e6d7ea8"
  },
  {
   "cell_type": "code",
   "execution_count": 162,
   "outputs": [
    {
     "name": "stdout",
     "output_type": "stream",
     "text": [
      "0 1 [2, 3, 4, 5, 6, 7, 8, 9]\n"
     ]
    }
   ],
   "source": [
    "x, y, *z = range(0, 10)  #unpack the rest into z\n",
    "print(x, y, z)"
   ],
   "metadata": {
    "collapsed": false,
    "ExecuteTime": {
     "end_time": "2024-02-21T18:00:39.444781Z",
     "start_time": "2024-02-21T18:00:39.435476Z"
    }
   },
   "id": "916b21ebc6c24d27"
  },
  {
   "cell_type": "code",
   "execution_count": 163,
   "outputs": [
    {
     "name": "stdout",
     "output_type": "stream",
     "text": [
      "0 [1, 2, 3, 4, 5, 6, 7, 8] 9\n"
     ]
    }
   ],
   "source": [
    "x, *y, z = range(0, 10)  #unpack the ends into x and z the rest in y\n",
    "print(x, y, z)"
   ],
   "metadata": {
    "collapsed": false,
    "ExecuteTime": {
     "end_time": "2024-02-21T18:00:39.983163Z",
     "start_time": "2024-02-21T18:00:39.978379Z"
    }
   },
   "id": "19c3b13fbb643d23"
  },
  {
   "cell_type": "code",
   "execution_count": 164,
   "outputs": [
    {
     "data": {
      "text/plain": "(1, 2, 0, 1, (2, 3, 4, 5, 6, 7, 8, 9))"
     },
     "execution_count": 164,
     "metadata": {},
     "output_type": "execute_result"
    }
   ],
   "source": [
    "#unpacking in funciton calls and definitions\n",
    "\n",
    "def fun(a, b, c, d, *rest):\n",
    "    return a, b, c, d, rest #if i return *rest it would unpack the tupled packed rest\n",
    "fun(*[1,2], *range(10)) #xpand all params\n"
   ],
   "metadata": {
    "collapsed": false,
    "ExecuteTime": {
     "end_time": "2024-02-21T18:00:40.463831Z",
     "start_time": "2024-02-21T18:00:40.461658Z"
    }
   },
   "id": "2144fb1c061205ed"
  },
  {
   "cell_type": "markdown",
   "source": [
    "## Pattern matching with sequences using match and case"
   ],
   "metadata": {
    "collapsed": false
   },
   "id": "f118f6077a298412"
  },
  {
   "cell_type": "code",
   "execution_count": 165,
   "outputs": [
    {
     "name": "stdout",
     "output_type": "stream",
     "text": [
      "usa ['8', '0', '1', '6', '5', '1', '1', '9', '4', '7']\n"
     ]
    }
   ],
   "source": [
    "phone = input()\n",
    "match tuple(phone): # tuple make it into a sequence string (+byte,bytearray) by itself cannot be used in a match/case\n",
    "    case['1',*rest] if rest:\n",
    "        print(f\"usa {rest}\")\n",
    "    case['4','4',*rest] if rest:\n",
    "        print(f\"UK {rest}\") \n",
    "    case['8','1' as sec,*rest] if rest:\n",
    "        print(f\"japan {rest}\")  \n",
    "    case _:\n",
    "        raise(SyntaxError('no matchie'))"
   ],
   "metadata": {
    "collapsed": false,
    "ExecuteTime": {
     "end_time": "2024-02-21T18:00:47.255278Z",
     "start_time": "2024-02-21T18:00:42.215503Z"
    }
   },
   "id": "3192f1df0d2129be"
  },
  {
   "cell_type": "code",
   "execution_count": 166,
   "outputs": [
    {
     "data": {
      "text/plain": "[3, 4, 5, 7, 8, 9]"
     },
     "execution_count": 166,
     "metadata": {},
     "output_type": "execute_result"
    }
   ],
   "source": [
    "import timeit\n",
    "import numpy as np\n",
    "import sys\n",
    "\n",
    "\n",
    "number_of_iterations=0\n",
    "\n",
    "def bubble(my_list):\n",
    "    \"\"\"\n",
    "    good old bubble sort on list of integer O(N^2) :)\n",
    "    \"\"\"\n",
    "    global number_of_iterations\n",
    "\n",
    "    switched = False\n",
    "    number_of_iterations = number_of_iterations+1 #how many times through the list\n",
    "    for counter,_ in enumerate(my_list[:-1]): # we could have used range, len as well, \n",
    "        if my_list[counter]>my_list[counter + 1]:\n",
    "            my_list[counter],my_list[counter+1] = my_list[counter+1], my_list[counter] # pythonic swap, without using temp var \n",
    "            switched=True\n",
    "    if switched: #if we made any switching then we can't be sure the list is sorted must call it again \n",
    "        my_list = bubble(my_list)\n",
    "    return my_list\n",
    "bubble(my_list=[9,8,7,3,4,5])"
   ],
   "metadata": {
    "collapsed": false,
    "ExecuteTime": {
     "end_time": "2024-02-21T18:00:48.648516Z",
     "start_time": "2024-02-21T18:00:48.641334Z"
    }
   },
   "id": "7c6fb13af835a30c"
  },
  {
   "cell_type": "code",
   "execution_count": 175,
   "outputs": [
    {
     "name": "stdout",
     "output_type": "stream",
     "text": [
      "starting bubble\n",
      "3000 size: 2928 full passes * 3000 comparisons/swaps\n",
      "starting bubble\n",
      "3000 size: 2892 full passes * 3000 comparisons/swaps\n",
      "starting bubble\n",
      "3000 size: 2920 full passes * 3000 comparisons/swaps\n",
      "0.6693609166541137 sec. on average, ran 3 iterations\n"
     ]
    }
   ],
   "source": [
    "list_size = 3000 #list of size in the range of 0-list-size\n",
    "sys.setrecursionlimit(list_size+1) #let's go deep without raising errors\n",
    "def bubble_call():\n",
    "    global number_of_iterations\n",
    "    print('starting bubble')\n",
    "    number_of_iterations=0\n",
    "    random_stuff = list(np.random.randint(0, list_size, list_size))\n",
    "    #print(f\"{'*'*10}{random_stuff}{'*'*10}\")\n",
    "    #print(f\"{'*'*10}{bubble(my_list=random_stuff)}{'*'*10}\")  \n",
    "    bubble(my_list=random_stuff)\n",
    "    print(f\"{list_size} size: {number_of_iterations} full passes * {list_size} comparisons/swaps\")\n",
    "number_of_repeats = 3  # Number of times to repeat the measurement\n",
    "timer = timeit.Timer(bubble_call) \n",
    "time_taken = timer.timeit(number=number_of_repeats)\n",
    "print(f\"{time_taken/number_of_repeats} sec. on average, ran {number_of_repeats} iterations\")\n",
    "#print(time_taken)"
   ],
   "metadata": {
    "collapsed": false,
    "ExecuteTime": {
     "end_time": "2024-02-21T18:02:27.336562Z",
     "start_time": "2024-02-21T18:02:25.360801Z"
    }
   },
   "id": "3e29cff0494de3e5"
  },
  {
   "cell_type": "code",
   "execution_count": 178,
   "outputs": [
    {
     "name": "stdout",
     "output_type": "stream",
     "text": [
      "[2, 3, 5, 7, 11, 13, 17, 19]\n"
     ]
    }
   ],
   "source": [
    "import math\n",
    "\n",
    "def find_primes(min_num, max_num):\n",
    "    primes=[]\n",
    "    for num1 in range(max(2,min_num), max_num): # prime numbers are positive numbers greater than 2 (start at 2)\n",
    "        prime=True\n",
    "        for num2 in range(2, int(math.sqrt(num1))+1):\n",
    "            if num1 % num2 == 0 :\n",
    "                prime=False\n",
    "                break\n",
    "        if prime:\n",
    "            primes.append(num1)\n",
    "    return primes  \n",
    "print(find_primes(2,20))            "
   ],
   "metadata": {
    "collapsed": false,
    "ExecuteTime": {
     "end_time": "2024-02-21T18:02:46.617450Z",
     "start_time": "2024-02-21T18:02:46.616058Z"
    }
   },
   "id": "83e07027664eba28"
  },
  {
   "cell_type": "code",
   "execution_count": null,
   "outputs": [],
   "source": [],
   "metadata": {
    "collapsed": false
   },
   "id": "9eb02e20cb31fcb1"
  }
 ],
 "metadata": {
  "kernelspec": {
   "display_name": "Python 3",
   "language": "python",
   "name": "python3"
  },
  "language_info": {
   "codemirror_mode": {
    "name": "ipython",
    "version": 2
   },
   "file_extension": ".py",
   "mimetype": "text/x-python",
   "name": "python",
   "nbconvert_exporter": "python",
   "pygments_lexer": "ipython2",
   "version": "2.7.6"
  }
 },
 "nbformat": 4,
 "nbformat_minor": 5
}
